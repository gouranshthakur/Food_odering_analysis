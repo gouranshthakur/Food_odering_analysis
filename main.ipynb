{
 "cells": [
  {
   "cell_type": "code",
   "execution_count": 6,
   "metadata": {},
   "outputs": [],
   "source": [
    "import pandas as pd  # Data manipulation and analysis\n",
    "import numpy as np  # Numerical operations\n",
    "import seaborn as sns  # Statistical data visualization\n",
    "import plotly.express as px\n",
    "import matplotlib.pyplot as plt  # Plotting and visualization\n",
    "from IPython.display import display, HTML  # Displaying HTML output in Jupyter notebooks\n",
    "import warnings  # Suppress warnings\n",
    "from colorama import Fore, Style  # Colored terminal text\n",
    "\n",
    "# Import classification models from sklearn\n",
    "from sklearn.tree import DecisionTreeClassifier  # Decision Tree Classifier\n",
    "from sklearn.ensemble import RandomForestClassifier  # Random Forest Classifier\n",
    "from sklearn.svm import SVC  # Support Vector Classifier\n",
    "from sklearn.neighbors import KNeighborsClassifier  # K-Nearest Neighbors Classifier\n",
    "\n",
    "# Import LightGBM classifier\n",
    "from lightgbm import LGBMClassifier  # LightGBM Classifier\n",
    "\n",
    "from sklearn.model_selection import GridSearchCV, train_test_split  # Model selection and hyperparameter tuning\n",
    "from sklearn.preprocessing import MinMaxScaler, StandardScaler, QuantileTransformer  # Data scaling and transformation\n",
    "from sklearn.metrics import accuracy_score, precision_score, recall_score, f1_score  # Model evaluation metrics\n",
    "\n",
    "warnings.filterwarnings(\"ignore\", category=FutureWarning)  # Suppress FutureWarning messages\n",
    "import lightgbm as lgb\n",
    "from sklearn.metrics import roc_auc_score\n",
    "from sklearn.preprocessing import LabelEncoder\n",
    "from sklearn.pipeline import Pipeline\n",
    "from sklearn.compose import ColumnTransformer\n",
    "from sklearn.preprocessing import StandardScaler, OneHotEncoder\n",
    "from sklearn.model_selection import train_test_split, GridSearchCV\n",
    "from sklearn.ensemble import RandomForestClassifier\n",
    "from sklearn.metrics import accuracy_score\n",
    "warnings.filterwarnings('ignore')"
   ]
  },
  {
   "cell_type": "code",
   "execution_count": 9,
   "metadata": {},
   "outputs": [],
   "source": [
    "meta_food = pd.read_csv('onlinefoods.csv')"
   ]
  },
  {
   "cell_type": "code",
   "execution_count": 10,
   "metadata": {},
   "outputs": [],
   "source": [
    "meta_food.rename(columns={'Output': 'state_of_order'},inplace=True)"
   ]
  },
  {
   "cell_type": "code",
   "execution_count": 11,
   "metadata": {},
   "outputs": [],
   "source": [
    "meta_food = meta_food.drop('Unnamed: 12',axis=1)"
   ]
  },
  {
   "cell_type": "code",
   "execution_count": 14,
   "metadata": {},
   "outputs": [
    {
     "data": {
      "text/html": [
       "\n",
       "    <div style=\"\n",
       "        text-align: center;\n",
       "        background: #14adc6;\n",
       "        font-family: 'Montserrat', sans-serif;\n",
       "        color: white;\n",
       "        padding: 15px;\n",
       "        font-size: 30px;\n",
       "        font-weight: bold;\n",
       "        line-height: 1;\n",
       "        border-radius: 20px 20px 0 0;\n",
       "        margin-bottom: 20px;\n",
       "        box-shadow: 0px 4px 6px rgba(0, 0, 0, 0.2);\n",
       "        border: 3px dashed #14adc6;\n",
       "    \">\n",
       "        🔝 Top 5 rows of Dataset\n",
       "    </div>\n",
       "    "
      ],
      "text/plain": [
       "<IPython.core.display.HTML object>"
      ]
     },
     "metadata": {},
     "output_type": "display_data"
    },
    {
     "data": {
      "text/html": [
       "<style type=\"text/css\">\n",
       "#T_a8a32 th {\n",
       "  color: white;\n",
       "  background-color: #14adc6;\n",
       "}\n",
       "#T_a8a32_row0_col0, #T_a8a32_row0_col1, #T_a8a32_row0_col2, #T_a8a32_row0_col3, #T_a8a32_row0_col4, #T_a8a32_row0_col5, #T_a8a32_row0_col6, #T_a8a32_row0_col7, #T_a8a32_row0_col8, #T_a8a32_row0_col9, #T_a8a32_row0_col10, #T_a8a32_row0_col11, #T_a8a32_row1_col0, #T_a8a32_row1_col1, #T_a8a32_row1_col2, #T_a8a32_row1_col3, #T_a8a32_row1_col4, #T_a8a32_row1_col5, #T_a8a32_row1_col6, #T_a8a32_row1_col7, #T_a8a32_row1_col8, #T_a8a32_row1_col9, #T_a8a32_row1_col10, #T_a8a32_row1_col11, #T_a8a32_row2_col0, #T_a8a32_row2_col1, #T_a8a32_row2_col2, #T_a8a32_row2_col3, #T_a8a32_row2_col4, #T_a8a32_row2_col5, #T_a8a32_row2_col6, #T_a8a32_row2_col7, #T_a8a32_row2_col8, #T_a8a32_row2_col9, #T_a8a32_row2_col10, #T_a8a32_row2_col11, #T_a8a32_row3_col0, #T_a8a32_row3_col1, #T_a8a32_row3_col2, #T_a8a32_row3_col3, #T_a8a32_row3_col4, #T_a8a32_row3_col5, #T_a8a32_row3_col6, #T_a8a32_row3_col7, #T_a8a32_row3_col8, #T_a8a32_row3_col9, #T_a8a32_row3_col10, #T_a8a32_row3_col11, #T_a8a32_row4_col0, #T_a8a32_row4_col1, #T_a8a32_row4_col2, #T_a8a32_row4_col3, #T_a8a32_row4_col4, #T_a8a32_row4_col5, #T_a8a32_row4_col6, #T_a8a32_row4_col7, #T_a8a32_row4_col8, #T_a8a32_row4_col9, #T_a8a32_row4_col10, #T_a8a32_row4_col11 {\n",
       "  text-align: center;\n",
       "}\n",
       "</style>\n",
       "<table id=\"T_a8a32\">\n",
       "  <thead>\n",
       "    <tr>\n",
       "      <th id=\"T_a8a32_level0_col0\" class=\"col_heading level0 col0\" >Age</th>\n",
       "      <th id=\"T_a8a32_level0_col1\" class=\"col_heading level0 col1\" >Gender</th>\n",
       "      <th id=\"T_a8a32_level0_col2\" class=\"col_heading level0 col2\" >Marital Status</th>\n",
       "      <th id=\"T_a8a32_level0_col3\" class=\"col_heading level0 col3\" >Occupation</th>\n",
       "      <th id=\"T_a8a32_level0_col4\" class=\"col_heading level0 col4\" >Monthly Income</th>\n",
       "      <th id=\"T_a8a32_level0_col5\" class=\"col_heading level0 col5\" >Educational Qualifications</th>\n",
       "      <th id=\"T_a8a32_level0_col6\" class=\"col_heading level0 col6\" >Family size</th>\n",
       "      <th id=\"T_a8a32_level0_col7\" class=\"col_heading level0 col7\" >latitude</th>\n",
       "      <th id=\"T_a8a32_level0_col8\" class=\"col_heading level0 col8\" >longitude</th>\n",
       "      <th id=\"T_a8a32_level0_col9\" class=\"col_heading level0 col9\" >Pin code</th>\n",
       "      <th id=\"T_a8a32_level0_col10\" class=\"col_heading level0 col10\" >state_of_order</th>\n",
       "      <th id=\"T_a8a32_level0_col11\" class=\"col_heading level0 col11\" >Feedback</th>\n",
       "    </tr>\n",
       "  </thead>\n",
       "  <tbody>\n",
       "    <tr>\n",
       "      <td id=\"T_a8a32_row0_col0\" class=\"data row0 col0\" >20</td>\n",
       "      <td id=\"T_a8a32_row0_col1\" class=\"data row0 col1\" >Female</td>\n",
       "      <td id=\"T_a8a32_row0_col2\" class=\"data row0 col2\" >Single</td>\n",
       "      <td id=\"T_a8a32_row0_col3\" class=\"data row0 col3\" >Student</td>\n",
       "      <td id=\"T_a8a32_row0_col4\" class=\"data row0 col4\" >No Income</td>\n",
       "      <td id=\"T_a8a32_row0_col5\" class=\"data row0 col5\" >Post Graduate</td>\n",
       "      <td id=\"T_a8a32_row0_col6\" class=\"data row0 col6\" >4</td>\n",
       "      <td id=\"T_a8a32_row0_col7\" class=\"data row0 col7\" >12.976600</td>\n",
       "      <td id=\"T_a8a32_row0_col8\" class=\"data row0 col8\" >77.599300</td>\n",
       "      <td id=\"T_a8a32_row0_col9\" class=\"data row0 col9\" >560001</td>\n",
       "      <td id=\"T_a8a32_row0_col10\" class=\"data row0 col10\" >Yes</td>\n",
       "      <td id=\"T_a8a32_row0_col11\" class=\"data row0 col11\" >Positive</td>\n",
       "    </tr>\n",
       "    <tr>\n",
       "      <td id=\"T_a8a32_row1_col0\" class=\"data row1 col0\" >24</td>\n",
       "      <td id=\"T_a8a32_row1_col1\" class=\"data row1 col1\" >Female</td>\n",
       "      <td id=\"T_a8a32_row1_col2\" class=\"data row1 col2\" >Single</td>\n",
       "      <td id=\"T_a8a32_row1_col3\" class=\"data row1 col3\" >Student</td>\n",
       "      <td id=\"T_a8a32_row1_col4\" class=\"data row1 col4\" >Below Rs.10000</td>\n",
       "      <td id=\"T_a8a32_row1_col5\" class=\"data row1 col5\" >Graduate</td>\n",
       "      <td id=\"T_a8a32_row1_col6\" class=\"data row1 col6\" >3</td>\n",
       "      <td id=\"T_a8a32_row1_col7\" class=\"data row1 col7\" >12.977000</td>\n",
       "      <td id=\"T_a8a32_row1_col8\" class=\"data row1 col8\" >77.577300</td>\n",
       "      <td id=\"T_a8a32_row1_col9\" class=\"data row1 col9\" >560009</td>\n",
       "      <td id=\"T_a8a32_row1_col10\" class=\"data row1 col10\" >Yes</td>\n",
       "      <td id=\"T_a8a32_row1_col11\" class=\"data row1 col11\" >Positive</td>\n",
       "    </tr>\n",
       "    <tr>\n",
       "      <td id=\"T_a8a32_row2_col0\" class=\"data row2 col0\" >22</td>\n",
       "      <td id=\"T_a8a32_row2_col1\" class=\"data row2 col1\" >Male</td>\n",
       "      <td id=\"T_a8a32_row2_col2\" class=\"data row2 col2\" >Single</td>\n",
       "      <td id=\"T_a8a32_row2_col3\" class=\"data row2 col3\" >Student</td>\n",
       "      <td id=\"T_a8a32_row2_col4\" class=\"data row2 col4\" >Below Rs.10000</td>\n",
       "      <td id=\"T_a8a32_row2_col5\" class=\"data row2 col5\" >Post Graduate</td>\n",
       "      <td id=\"T_a8a32_row2_col6\" class=\"data row2 col6\" >3</td>\n",
       "      <td id=\"T_a8a32_row2_col7\" class=\"data row2 col7\" >12.955100</td>\n",
       "      <td id=\"T_a8a32_row2_col8\" class=\"data row2 col8\" >77.659300</td>\n",
       "      <td id=\"T_a8a32_row2_col9\" class=\"data row2 col9\" >560017</td>\n",
       "      <td id=\"T_a8a32_row2_col10\" class=\"data row2 col10\" >Yes</td>\n",
       "      <td id=\"T_a8a32_row2_col11\" class=\"data row2 col11\" >Negative </td>\n",
       "    </tr>\n",
       "    <tr>\n",
       "      <td id=\"T_a8a32_row3_col0\" class=\"data row3 col0\" >22</td>\n",
       "      <td id=\"T_a8a32_row3_col1\" class=\"data row3 col1\" >Female</td>\n",
       "      <td id=\"T_a8a32_row3_col2\" class=\"data row3 col2\" >Single</td>\n",
       "      <td id=\"T_a8a32_row3_col3\" class=\"data row3 col3\" >Student</td>\n",
       "      <td id=\"T_a8a32_row3_col4\" class=\"data row3 col4\" >No Income</td>\n",
       "      <td id=\"T_a8a32_row3_col5\" class=\"data row3 col5\" >Graduate</td>\n",
       "      <td id=\"T_a8a32_row3_col6\" class=\"data row3 col6\" >6</td>\n",
       "      <td id=\"T_a8a32_row3_col7\" class=\"data row3 col7\" >12.947300</td>\n",
       "      <td id=\"T_a8a32_row3_col8\" class=\"data row3 col8\" >77.561600</td>\n",
       "      <td id=\"T_a8a32_row3_col9\" class=\"data row3 col9\" >560019</td>\n",
       "      <td id=\"T_a8a32_row3_col10\" class=\"data row3 col10\" >Yes</td>\n",
       "      <td id=\"T_a8a32_row3_col11\" class=\"data row3 col11\" >Positive</td>\n",
       "    </tr>\n",
       "    <tr>\n",
       "      <td id=\"T_a8a32_row4_col0\" class=\"data row4 col0\" >22</td>\n",
       "      <td id=\"T_a8a32_row4_col1\" class=\"data row4 col1\" >Male</td>\n",
       "      <td id=\"T_a8a32_row4_col2\" class=\"data row4 col2\" >Single</td>\n",
       "      <td id=\"T_a8a32_row4_col3\" class=\"data row4 col3\" >Student</td>\n",
       "      <td id=\"T_a8a32_row4_col4\" class=\"data row4 col4\" >Below Rs.10000</td>\n",
       "      <td id=\"T_a8a32_row4_col5\" class=\"data row4 col5\" >Post Graduate</td>\n",
       "      <td id=\"T_a8a32_row4_col6\" class=\"data row4 col6\" >4</td>\n",
       "      <td id=\"T_a8a32_row4_col7\" class=\"data row4 col7\" >12.985000</td>\n",
       "      <td id=\"T_a8a32_row4_col8\" class=\"data row4 col8\" >77.553300</td>\n",
       "      <td id=\"T_a8a32_row4_col9\" class=\"data row4 col9\" >560010</td>\n",
       "      <td id=\"T_a8a32_row4_col10\" class=\"data row4 col10\" >Yes</td>\n",
       "      <td id=\"T_a8a32_row4_col11\" class=\"data row4 col11\" >Positive</td>\n",
       "    </tr>\n",
       "  </tbody>\n",
       "</table>\n"
      ],
      "text/plain": [
       "<IPython.core.display.HTML object>"
      ]
     },
     "metadata": {},
     "output_type": "display_data"
    },
    {
     "data": {
      "text/html": [
       "\n",
       "    <div style=\"\n",
       "        text-align: center;\n",
       "        background: #14adc6;\n",
       "        font-family: 'Montserrat', sans-serif;\n",
       "        color: white;\n",
       "        padding: 15px;\n",
       "        font-size: 30px;\n",
       "        font-weight: bold;\n",
       "        line-height: 1;\n",
       "        border-radius: 20px 20px 0 0;\n",
       "        margin-bottom: 20px;\n",
       "        box-shadow: 0px 4px 6px rgba(0, 0, 0, 0.2);\n",
       "        border: 3px dashed #14adc6;\n",
       "    \">\n",
       "        📊 Summary of Dataset\n",
       "    </div>\n",
       "    "
      ],
      "text/plain": [
       "<IPython.core.display.HTML object>"
      ]
     },
     "metadata": {},
     "output_type": "display_data"
    },
    {
     "data": {
      "text/html": [
       "<style type=\"text/css\">\n",
       "#T_08608 th {\n",
       "  color: white;\n",
       "  background-color: #14adc6;\n",
       "}\n",
       "#T_08608_row0_col0, #T_08608_row0_col1, #T_08608_row0_col2, #T_08608_row0_col3, #T_08608_row0_col4, #T_08608_row1_col0, #T_08608_row1_col1, #T_08608_row1_col2, #T_08608_row1_col3, #T_08608_row1_col4, #T_08608_row2_col0, #T_08608_row2_col1, #T_08608_row2_col2, #T_08608_row2_col3, #T_08608_row2_col4, #T_08608_row3_col0, #T_08608_row3_col1, #T_08608_row3_col2, #T_08608_row3_col3, #T_08608_row3_col4, #T_08608_row4_col0, #T_08608_row4_col1, #T_08608_row4_col2, #T_08608_row4_col3, #T_08608_row4_col4, #T_08608_row5_col0, #T_08608_row5_col1, #T_08608_row5_col2, #T_08608_row5_col3, #T_08608_row5_col4, #T_08608_row6_col0, #T_08608_row6_col1, #T_08608_row6_col2, #T_08608_row6_col3, #T_08608_row6_col4, #T_08608_row7_col0, #T_08608_row7_col1, #T_08608_row7_col2, #T_08608_row7_col3, #T_08608_row7_col4 {\n",
       "  text-align: center;\n",
       "}\n",
       "</style>\n",
       "<table id=\"T_08608\">\n",
       "  <thead>\n",
       "    <tr>\n",
       "      <th id=\"T_08608_level0_col0\" class=\"col_heading level0 col0\" >Age</th>\n",
       "      <th id=\"T_08608_level0_col1\" class=\"col_heading level0 col1\" >Family size</th>\n",
       "      <th id=\"T_08608_level0_col2\" class=\"col_heading level0 col2\" >latitude</th>\n",
       "      <th id=\"T_08608_level0_col3\" class=\"col_heading level0 col3\" >longitude</th>\n",
       "      <th id=\"T_08608_level0_col4\" class=\"col_heading level0 col4\" >Pin code</th>\n",
       "    </tr>\n",
       "  </thead>\n",
       "  <tbody>\n",
       "    <tr>\n",
       "      <td id=\"T_08608_row0_col0\" class=\"data row0 col0\" >388.000000</td>\n",
       "      <td id=\"T_08608_row0_col1\" class=\"data row0 col1\" >388.000000</td>\n",
       "      <td id=\"T_08608_row0_col2\" class=\"data row0 col2\" >388.000000</td>\n",
       "      <td id=\"T_08608_row0_col3\" class=\"data row0 col3\" >388.000000</td>\n",
       "      <td id=\"T_08608_row0_col4\" class=\"data row0 col4\" >388.000000</td>\n",
       "    </tr>\n",
       "    <tr>\n",
       "      <td id=\"T_08608_row1_col0\" class=\"data row1 col0\" >24.628866</td>\n",
       "      <td id=\"T_08608_row1_col1\" class=\"data row1 col1\" >3.280928</td>\n",
       "      <td id=\"T_08608_row1_col2\" class=\"data row1 col2\" >12.972058</td>\n",
       "      <td id=\"T_08608_row1_col3\" class=\"data row1 col3\" >77.600160</td>\n",
       "      <td id=\"T_08608_row1_col4\" class=\"data row1 col4\" >560040.113402</td>\n",
       "    </tr>\n",
       "    <tr>\n",
       "      <td id=\"T_08608_row2_col0\" class=\"data row2 col0\" >2.975593</td>\n",
       "      <td id=\"T_08608_row2_col1\" class=\"data row2 col1\" >1.351025</td>\n",
       "      <td id=\"T_08608_row2_col2\" class=\"data row2 col2\" >0.044489</td>\n",
       "      <td id=\"T_08608_row2_col3\" class=\"data row2 col3\" >0.051354</td>\n",
       "      <td id=\"T_08608_row2_col4\" class=\"data row2 col4\" >31.399609</td>\n",
       "    </tr>\n",
       "    <tr>\n",
       "      <td id=\"T_08608_row3_col0\" class=\"data row3 col0\" >18.000000</td>\n",
       "      <td id=\"T_08608_row3_col1\" class=\"data row3 col1\" >1.000000</td>\n",
       "      <td id=\"T_08608_row3_col2\" class=\"data row3 col2\" >12.865200</td>\n",
       "      <td id=\"T_08608_row3_col3\" class=\"data row3 col3\" >77.484200</td>\n",
       "      <td id=\"T_08608_row3_col4\" class=\"data row3 col4\" >560001.000000</td>\n",
       "    </tr>\n",
       "    <tr>\n",
       "      <td id=\"T_08608_row4_col0\" class=\"data row4 col0\" >23.000000</td>\n",
       "      <td id=\"T_08608_row4_col1\" class=\"data row4 col1\" >2.000000</td>\n",
       "      <td id=\"T_08608_row4_col2\" class=\"data row4 col2\" >12.936900</td>\n",
       "      <td id=\"T_08608_row4_col3\" class=\"data row4 col3\" >77.565275</td>\n",
       "      <td id=\"T_08608_row4_col4\" class=\"data row4 col4\" >560010.750000</td>\n",
       "    </tr>\n",
       "    <tr>\n",
       "      <td id=\"T_08608_row5_col0\" class=\"data row5 col0\" >24.000000</td>\n",
       "      <td id=\"T_08608_row5_col1\" class=\"data row5 col1\" >3.000000</td>\n",
       "      <td id=\"T_08608_row5_col2\" class=\"data row5 col2\" >12.977000</td>\n",
       "      <td id=\"T_08608_row5_col3\" class=\"data row5 col3\" >77.592100</td>\n",
       "      <td id=\"T_08608_row5_col4\" class=\"data row5 col4\" >560033.500000</td>\n",
       "    </tr>\n",
       "    <tr>\n",
       "      <td id=\"T_08608_row6_col0\" class=\"data row6 col0\" >26.000000</td>\n",
       "      <td id=\"T_08608_row6_col1\" class=\"data row6 col1\" >4.000000</td>\n",
       "      <td id=\"T_08608_row6_col2\" class=\"data row6 col2\" >12.997025</td>\n",
       "      <td id=\"T_08608_row6_col3\" class=\"data row6 col3\" >77.630900</td>\n",
       "      <td id=\"T_08608_row6_col4\" class=\"data row6 col4\" >560068.000000</td>\n",
       "    </tr>\n",
       "    <tr>\n",
       "      <td id=\"T_08608_row7_col0\" class=\"data row7 col0\" >33.000000</td>\n",
       "      <td id=\"T_08608_row7_col1\" class=\"data row7 col1\" >6.000000</td>\n",
       "      <td id=\"T_08608_row7_col2\" class=\"data row7 col2\" >13.102000</td>\n",
       "      <td id=\"T_08608_row7_col3\" class=\"data row7 col3\" >77.758200</td>\n",
       "      <td id=\"T_08608_row7_col4\" class=\"data row7 col4\" >560109.000000</td>\n",
       "    </tr>\n",
       "  </tbody>\n",
       "</table>\n"
      ],
      "text/plain": [
       "<IPython.core.display.HTML object>"
      ]
     },
     "metadata": {},
     "output_type": "display_data"
    },
    {
     "data": {
      "text/html": [
       "\n",
       "    <div style=\"\n",
       "        text-align: center;\n",
       "        background: #14adc6;\n",
       "        font-family: 'Montserrat', sans-serif;\n",
       "        color: white;\n",
       "        padding: 15px;\n",
       "        font-size: 30px;\n",
       "        font-weight: bold;\n",
       "        line-height: 1;\n",
       "        border-radius: 20px 20px 0 0;\n",
       "        margin-bottom: 20px;\n",
       "        box-shadow: 0px 4px 6px rgba(0, 0, 0, 0.2);\n",
       "        border: 3px dashed #14adc6;\n",
       "    \">\n",
       "        ❌ Null Values in Dataset\n",
       "    </div>\n",
       "    "
      ],
      "text/plain": [
       "<IPython.core.display.HTML object>"
      ]
     },
     "metadata": {},
     "output_type": "display_data"
    },
    {
     "data": {
      "text/html": [
       "<p>No null values in the training dataset.</p>"
      ],
      "text/plain": [
       "<IPython.core.display.HTML object>"
      ]
     },
     "metadata": {},
     "output_type": "display_data"
    },
    {
     "data": {
      "text/html": [
       "\n",
       "    <div style=\"\n",
       "        text-align: center;\n",
       "        background: #14adc6;\n",
       "        font-family: 'Montserrat', sans-serif;\n",
       "        color: white;\n",
       "        padding: 15px;\n",
       "        font-size: 30px;\n",
       "        font-weight: bold;\n",
       "        line-height: 1;\n",
       "        border-radius: 20px 20px 0 0;\n",
       "        margin-bottom: 20px;\n",
       "        box-shadow: 0px 4px 6px rgba(0, 0, 0, 0.2);\n",
       "        border: 3px dashed #14adc6;\n",
       "    \">\n",
       "        ♻️ Duplicate Values in Dataset\n",
       "    </div>\n",
       "    "
      ],
      "text/plain": [
       "<IPython.core.display.HTML object>"
      ]
     },
     "metadata": {},
     "output_type": "display_data"
    },
    {
     "data": {
      "text/html": [
       "<h3>Training Dataset:</h3>"
      ],
      "text/plain": [
       "<IPython.core.display.HTML object>"
      ]
     },
     "metadata": {},
     "output_type": "display_data"
    },
    {
     "data": {
      "text/html": [
       "<p>103 duplicate rows found.</p>"
      ],
      "text/plain": [
       "<IPython.core.display.HTML object>"
      ]
     },
     "metadata": {},
     "output_type": "display_data"
    },
    {
     "data": {
      "text/html": [
       "\n",
       "    <div style=\"\n",
       "        text-align: center;\n",
       "        background: #14adc6;\n",
       "        font-family: 'Montserrat', sans-serif;\n",
       "        color: white;\n",
       "        padding: 15px;\n",
       "        font-size: 30px;\n",
       "        font-weight: bold;\n",
       "        line-height: 1;\n",
       "        border-radius: 20px 20px 0 0;\n",
       "        margin-bottom: 20px;\n",
       "        box-shadow: 0px 4px 6px rgba(0, 0, 0, 0.2);\n",
       "        border: 3px dashed #14adc6;\n",
       "    \">\n",
       "        📏 Number of Rows and Columns\n",
       "    </div>\n",
       "    "
      ],
      "text/plain": [
       "<IPython.core.display.HTML object>"
      ]
     },
     "metadata": {},
     "output_type": "display_data"
    },
    {
     "data": {
      "text/html": [
       "<h3>Training Dataset:</h3>"
      ],
      "text/plain": [
       "<IPython.core.display.HTML object>"
      ]
     },
     "metadata": {},
     "output_type": "display_data"
    },
    {
     "data": {
      "text/html": [
       "<p>Rows: 388, Columns: 12</p>"
      ],
      "text/plain": [
       "<IPython.core.display.HTML object>"
      ]
     },
     "metadata": {},
     "output_type": "display_data"
    },
    {
     "data": {
      "text/html": [
       "\n",
       "    <div style=\"\n",
       "        text-align: center;\n",
       "        background: #14adc6;\n",
       "        font-family: 'Montserrat', sans-serif;\n",
       "        color: white;\n",
       "        padding: 15px;\n",
       "        font-size: 30px;\n",
       "        font-weight: bold;\n",
       "        line-height: 1;\n",
       "        border-radius: 20px 20px 0 0;\n",
       "        margin-bottom: 20px;\n",
       "        box-shadow: 0px 4px 6px rgba(0, 0, 0, 0.2);\n",
       "        border: 3px dashed #14adc6;\n",
       "    \">\n",
       "        🔢 Unique Values in Dataset\n",
       "    </div>\n",
       "    "
      ],
      "text/plain": [
       "<IPython.core.display.HTML object>"
      ]
     },
     "metadata": {},
     "output_type": "display_data"
    },
    {
     "data": {
      "text/html": [
       "<style type=\"text/css\">\n",
       "#T_b0d9b th {\n",
       "  color: white;\n",
       "  background-color: #14adc6;\n",
       "}\n",
       "#T_b0d9b_row0_col0, #T_b0d9b_row0_col1, #T_b0d9b_row0_col2, #T_b0d9b_row1_col0, #T_b0d9b_row1_col1, #T_b0d9b_row1_col2, #T_b0d9b_row2_col0, #T_b0d9b_row2_col1, #T_b0d9b_row2_col2, #T_b0d9b_row3_col0, #T_b0d9b_row3_col1, #T_b0d9b_row3_col2, #T_b0d9b_row4_col0, #T_b0d9b_row4_col1, #T_b0d9b_row4_col2, #T_b0d9b_row5_col0, #T_b0d9b_row5_col1, #T_b0d9b_row5_col2, #T_b0d9b_row6_col0, #T_b0d9b_row6_col1, #T_b0d9b_row6_col2, #T_b0d9b_row7_col0, #T_b0d9b_row7_col1, #T_b0d9b_row7_col2, #T_b0d9b_row8_col0, #T_b0d9b_row8_col1, #T_b0d9b_row8_col2, #T_b0d9b_row9_col0, #T_b0d9b_row9_col1, #T_b0d9b_row9_col2, #T_b0d9b_row10_col0, #T_b0d9b_row10_col1, #T_b0d9b_row10_col2, #T_b0d9b_row11_col0, #T_b0d9b_row11_col1, #T_b0d9b_row11_col2 {\n",
       "  text-align: center;\n",
       "}\n",
       "</style>\n",
       "<table id=\"T_b0d9b\">\n",
       "  <thead>\n",
       "    <tr>\n",
       "      <th id=\"T_b0d9b_level0_col0\" class=\"col_heading level0 col0\" >Column Name</th>\n",
       "      <th id=\"T_b0d9b_level0_col1\" class=\"col_heading level0 col1\" >Data Type</th>\n",
       "      <th id=\"T_b0d9b_level0_col2\" class=\"col_heading level0 col2\" >Unique Values</th>\n",
       "    </tr>\n",
       "  </thead>\n",
       "  <tbody>\n",
       "    <tr>\n",
       "      <td id=\"T_b0d9b_row0_col0\" class=\"data row0 col0\" >Age</td>\n",
       "      <td id=\"T_b0d9b_row0_col1\" class=\"data row0 col1\" >int64</td>\n",
       "      <td id=\"T_b0d9b_row0_col2\" class=\"data row0 col2\" >20, 24, 22, 27, 23, 21, 28</td>\n",
       "    </tr>\n",
       "    <tr>\n",
       "      <td id=\"T_b0d9b_row1_col0\" class=\"data row1 col0\" >Gender</td>\n",
       "      <td id=\"T_b0d9b_row1_col1\" class=\"data row1 col1\" >object</td>\n",
       "      <td id=\"T_b0d9b_row1_col2\" class=\"data row1 col2\" >Female, Male</td>\n",
       "    </tr>\n",
       "    <tr>\n",
       "      <td id=\"T_b0d9b_row2_col0\" class=\"data row2 col0\" >Marital Status</td>\n",
       "      <td id=\"T_b0d9b_row2_col1\" class=\"data row2 col1\" >object</td>\n",
       "      <td id=\"T_b0d9b_row2_col2\" class=\"data row2 col2\" >Single, Married, Prefer not to say</td>\n",
       "    </tr>\n",
       "    <tr>\n",
       "      <td id=\"T_b0d9b_row3_col0\" class=\"data row3 col0\" >Occupation</td>\n",
       "      <td id=\"T_b0d9b_row3_col1\" class=\"data row3 col1\" >object</td>\n",
       "      <td id=\"T_b0d9b_row3_col2\" class=\"data row3 col2\" >Student, Employee, Self Employeed, House wife</td>\n",
       "    </tr>\n",
       "    <tr>\n",
       "      <td id=\"T_b0d9b_row4_col0\" class=\"data row4 col0\" >Monthly Income</td>\n",
       "      <td id=\"T_b0d9b_row4_col1\" class=\"data row4 col1\" >object</td>\n",
       "      <td id=\"T_b0d9b_row4_col2\" class=\"data row4 col2\" >No Income, Below Rs.10000, More than 50000, 10001 to 25000, 25001 to 50000</td>\n",
       "    </tr>\n",
       "    <tr>\n",
       "      <td id=\"T_b0d9b_row5_col0\" class=\"data row5 col0\" >Educational Qualifications</td>\n",
       "      <td id=\"T_b0d9b_row5_col1\" class=\"data row5 col1\" >object</td>\n",
       "      <td id=\"T_b0d9b_row5_col2\" class=\"data row5 col2\" >Post Graduate, Graduate, Ph.D, Uneducated, School</td>\n",
       "    </tr>\n",
       "    <tr>\n",
       "      <td id=\"T_b0d9b_row6_col0\" class=\"data row6 col0\" >Family size</td>\n",
       "      <td id=\"T_b0d9b_row6_col1\" class=\"data row6 col1\" >int64</td>\n",
       "      <td id=\"T_b0d9b_row6_col2\" class=\"data row6 col2\" >4, 3, 6, 2, 5, 1</td>\n",
       "    </tr>\n",
       "    <tr>\n",
       "      <td id=\"T_b0d9b_row7_col0\" class=\"data row7 col0\" >latitude</td>\n",
       "      <td id=\"T_b0d9b_row7_col1\" class=\"data row7 col1\" >float64</td>\n",
       "      <td id=\"T_b0d9b_row7_col2\" class=\"data row7 col2\" >12.9766, 12.977, 12.9551, 12.9473, 12.985, 12.9299, 12.9828</td>\n",
       "    </tr>\n",
       "    <tr>\n",
       "      <td id=\"T_b0d9b_row8_col0\" class=\"data row8 col0\" >longitude</td>\n",
       "      <td id=\"T_b0d9b_row8_col1\" class=\"data row8 col1\" >float64</td>\n",
       "      <td id=\"T_b0d9b_row8_col2\" class=\"data row8 col2\" >77.5993, 77.5773, 77.6593, 77.5616, 77.5533, 77.6848, 77.6131</td>\n",
       "    </tr>\n",
       "    <tr>\n",
       "      <td id=\"T_b0d9b_row9_col0\" class=\"data row9 col0\" >Pin code</td>\n",
       "      <td id=\"T_b0d9b_row9_col1\" class=\"data row9 col1\" >int64</td>\n",
       "      <td id=\"T_b0d9b_row9_col2\" class=\"data row9 col2\" >560001, 560009, 560017, 560019, 560010, 560103, 560042</td>\n",
       "    </tr>\n",
       "    <tr>\n",
       "      <td id=\"T_b0d9b_row10_col0\" class=\"data row10 col0\" >state_of_order</td>\n",
       "      <td id=\"T_b0d9b_row10_col1\" class=\"data row10 col1\" >object</td>\n",
       "      <td id=\"T_b0d9b_row10_col2\" class=\"data row10 col2\" >Yes, No</td>\n",
       "    </tr>\n",
       "    <tr>\n",
       "      <td id=\"T_b0d9b_row11_col0\" class=\"data row11 col0\" >Feedback</td>\n",
       "      <td id=\"T_b0d9b_row11_col1\" class=\"data row11 col1\" >object</td>\n",
       "      <td id=\"T_b0d9b_row11_col2\" class=\"data row11 col2\" >Positive, Negative </td>\n",
       "    </tr>\n",
       "  </tbody>\n",
       "</table>\n"
      ],
      "text/plain": [
       "<IPython.core.display.HTML object>"
      ]
     },
     "metadata": {},
     "output_type": "display_data"
    }
   ],
   "source": [
    "def styled_heading(text, background_color='#14adc6', text_color='white'):\n",
    "    return f\"\"\"\n",
    "    <div style=\"\n",
    "        text-align: center;\n",
    "        background: {background_color};\n",
    "        font-family: 'Montserrat', sans-serif;\n",
    "        color: {text_color};\n",
    "        padding: 15px;\n",
    "        font-size: 30px;\n",
    "        font-weight: bold;\n",
    "        line-height: 1;\n",
    "        border-radius: 20px 20px 0 0;\n",
    "        margin-bottom: 20px;\n",
    "        box-shadow: 0px 4px 6px rgba(0, 0, 0, 0.2);\n",
    "        border: 3px dashed {background_color};\n",
    "    \">\n",
    "        {text}\n",
    "    </div>\n",
    "    \"\"\"\n",
    "\n",
    "def style_table(df):\n",
    "    styled_df = df.style.set_table_styles([\n",
    "        {\"selector\": \"th\", \"props\": [(\"color\", \"white\"), (\"background-color\", \"#14adc6\")]}\n",
    "    ]).set_properties(**{\"text-align\": \"center\"}).hide(axis=\"index\")\n",
    "    return styled_df.to_html()\n",
    "\n",
    "def print_dataset_analysis(train_dataset, n_top=5, heading_color='#14adc6', text_color='white'):\n",
    "    train_heading = styled_heading(f\"🔝 Top {n_top} rows of Dataset\", heading_color, text_color)\n",
    "    display(HTML(train_heading))\n",
    "    display(HTML(style_table(train_dataset.head(n_top))))\n",
    "\n",
    "    summary_heading = styled_heading(\"📊 Summary of Dataset\", heading_color, text_color)\n",
    "    display(HTML(summary_heading))\n",
    "    display(HTML(style_table(train_dataset.describe())))\n",
    "\n",
    "    null_heading = styled_heading(\"❌ Null Values in Dataset\", heading_color, text_color)\n",
    "    train_null_count = train_dataset.isnull().sum()\n",
    "    display(HTML(null_heading))\n",
    "    if train_null_count.sum() == 0:\n",
    "        display(HTML(\"<p>No null values in the training dataset.</p>\"))\n",
    "    else:\n",
    "        display(HTML(\"<h3>Training Dataset:</h3>\"))\n",
    "        display(HTML(style_table(train_null_count[train_null_count > 0].to_frame())))\n",
    "        display(HTML(\"<p>These are the null values.</p>\"))\n",
    "\n",
    "    duplicate_heading = styled_heading(\"♻️ Duplicate Values in Dataset\", heading_color, text_color)\n",
    "    train_duplicates = train_dataset.duplicated().sum()\n",
    "    display(HTML(duplicate_heading))\n",
    "    display(HTML(\"<h3>Training Dataset:</h3>\"))\n",
    "    display(HTML(f\"<p>{train_duplicates} duplicate rows found.</p>\"))\n",
    "\n",
    "    shape_heading = styled_heading(\"📏 Number of Rows and Columns\", heading_color, text_color)\n",
    "    display(HTML(shape_heading))\n",
    "    display(HTML(\"<h3>Training Dataset:</h3>\"))\n",
    "    display(HTML(f\"<p>Rows: {train_dataset.shape[0]}, Columns: {train_dataset.shape[1]}</p>\"))\n",
    "\n",
    "def print_unique_values(train_dataset, heading_color='#14adc6', text_color='white'):\n",
    "    unique_values_heading = styled_heading(\"🔢 Unique Values in Dataset\", heading_color, text_color)\n",
    "    display(HTML(unique_values_heading))\n",
    "    unique_values_table = pd.DataFrame({\n",
    "        'Column Name': train_dataset.columns,\n",
    "        'Data Type': [train_dataset[col].dtype for col in train_dataset.columns],\n",
    "        'Unique Values': [', '.join(map(str, train_dataset[col].unique()[:7])) for col in train_dataset.columns]\n",
    "    })\n",
    "    display(HTML(style_table(unique_values_table)))\n",
    "\n",
    "# Example usage with `meta_food`\n",
    "print_dataset_analysis(meta_food, n_top=5, heading_color='#14adc6', text_color='white')\n",
    "print_unique_values(meta_food, heading_color='#14adc6', text_color='white')"
   ]
  },
  {
   "cell_type": "code",
   "execution_count": 15,
   "metadata": {},
   "outputs": [],
   "source": [
    "meta_food['Monthly Income'] = meta_food['Monthly Income'].str.replace('.', '', regex=False)"
   ]
  },
  {
   "cell_type": "code",
   "execution_count": 16,
   "metadata": {},
   "outputs": [],
   "source": [
    "meta_food['Educational Qualifications'] = meta_food['Educational Qualifications'].str.replace('.', '', regex=False)"
   ]
  },
  {
   "cell_type": "code",
   "execution_count": 17,
   "metadata": {},
   "outputs": [],
   "source": [
    "meta_food = meta_food.drop_duplicates()"
   ]
  },
  {
   "cell_type": "code",
   "execution_count": 18,
   "metadata": {},
   "outputs": [
    {
     "data": {
      "text/plain": [
       "(285, 12)"
      ]
     },
     "execution_count": 18,
     "metadata": {},
     "output_type": "execute_result"
    }
   ],
   "source": [
    "meta_food.shape"
   ]
  },
  {
   "cell_type": "code",
   "execution_count": null,
   "metadata": {},
   "outputs": [],
   "source": [
    "background_color = '#5fa1bc'\n",
    "sns.set_theme(style=\"whitegrid\", rc={\"axes.facecolor\": background_color})\n",
    "plt.subplots(figsize=(10, 5))\n",
    "p = sns.countplot(y=\"Marital Status\", data=meta_food, palette='magma', edgecolor='white', linewidth=2, width=0.7)\n",
    "for container in p.containers:\n",
    "    plt.bar_label(container, label_type=\"center\", color=\"black\", fontsize=17, weight='bold', padding=6, position=(0.5, 0.5),\n",
    "                  bbox={\"boxstyle\": \"round\", \"pad\": 0.2, \"facecolor\": \"white\", \"edgecolor\": \"black\", \"linewidth\": 2, \"alpha\": 1})\n",
    "plt.title(\"Marital Status in Dataset\")\n",
    "plt.xlabel(\"Count\")\n",
    "plt.ylabel(\"Marital Status\")\n",
    "plt.show()"
   ]
  },
  {
   "cell_type": "code",
   "execution_count": null,
   "metadata": {},
   "outputs": [],
   "source": [
    "background_color = '#5fa1bc'\n",
    "sns.set_theme(style=\"whitegrid\", rc={\"axes.facecolor\": background_color})\n",
    "plt.subplots(figsize=(10, 5))\n",
    "p = sns.countplot(y=\"Gender\", data=meta_food, palette='magma', edgecolor='white', linewidth=2, width=0.7)\n",
    "for container in p.containers:\n",
    "    plt.bar_label(container, label_type=\"center\", color=\"black\", fontsize=17, weight='bold', padding=6, position=(0.5, 0.5),\n",
    "                  bbox={\"boxstyle\": \"round\", \"pad\": 0.2, \"facecolor\": \"white\", \"edgecolor\": \"black\", \"linewidth\": 2, \"alpha\": 1})\n",
    "plt.title(\"Gender in dataset\")\n",
    "plt.xlabel(\"Count\")\n",
    "plt.ylabel(\"Gender\")\n",
    "plt.show()"
   ]
  },
  {
   "cell_type": "code",
   "execution_count": null,
   "metadata": {},
   "outputs": [],
   "source": [
    "background_color = '#5fa1bc'\n",
    "sns.set_theme(style=\"whitegrid\", rc={\"axes.facecolor\": background_color})\n",
    "plt.subplots(figsize=(10, 5))\n",
    "p = sns.countplot(y=\"Occupation\", data=meta_food, palette='magma', edgecolor='white', linewidth=2, width=0.7)\n",
    "for container in p.containers:\n",
    "    plt.bar_label(container, label_type=\"center\", color=\"black\", fontsize=17, weight='bold', padding=6, position=(0.5, 0.5),\n",
    "                  bbox={\"boxstyle\": \"round\", \"pad\": 0.2, \"facecolor\": \"white\", \"edgecolor\": \"black\", \"linewidth\": 2, \"alpha\": 1})\n",
    "plt.title(\"Occupation in the Dataset\")\n",
    "plt.xlabel(\"Count\")\n",
    "plt.ylabel(\"Occupation\")\n",
    "plt.show()"
   ]
  },
  {
   "cell_type": "code",
   "execution_count": null,
   "metadata": {},
   "outputs": [],
   "source": [
    "background_color = '#5fa1bc'\n",
    "sns.set_theme(style=\"whitegrid\", rc={\"axes.facecolor\": background_color})\n",
    "plt.subplots(figsize=(10, 5))\n",
    "p = sns.countplot(y=\"Monthly Income\", data=meta_food, palette='magma', edgecolor='white', linewidth=2, width=0.7)\n",
    "for container in p.containers:\n",
    "    plt.bar_label(container, label_type=\"center\", color=\"black\", fontsize=17, weight='bold', padding=6, position=(0.5, 0.5),\n",
    "                  bbox={\"boxstyle\": \"round\", \"pad\": 0.2, \"facecolor\": \"white\", \"edgecolor\": \"black\", \"linewidth\": 2, \"alpha\": 1})\n",
    "plt.title(\"Monthly Income in the Dataset\")\n",
    "plt.xlabel(\"Count\")\n",
    "plt.ylabel(\"Monthly Income\")\n",
    "plt.show()"
   ]
  },
  {
   "cell_type": "code",
   "execution_count": null,
   "metadata": {},
   "outputs": [],
   "source": [
    "background_color = '#5fa1bc'\n",
    "sns.set_theme(style=\"whitegrid\", rc={\"axes.facecolor\": background_color})\n",
    "plt.subplots(figsize=(10, 5))\n",
    "p = sns.countplot(y=\"Educational Qualifications\", data=meta_food, palette='magma', edgecolor='white', linewidth=2, width=0.7)\n",
    "for container in p.containers:\n",
    "    plt.bar_label(container, label_type=\"center\", color=\"black\", fontsize=17, weight='bold', padding=6, position=(0.5, 0.5),\n",
    "                  bbox={\"boxstyle\": \"round\", \"pad\": 0.2, \"facecolor\": \"white\", \"edgecolor\": \"black\", \"linewidth\": 2, \"alpha\": 1})\n",
    "plt.title(\"Educational Qualifications in the dataset\")\n",
    "plt.xlabel(\"Count\")\n",
    "plt.ylabel(\"Educational Qualifications\")\n",
    "plt.show()"
   ]
  },
  {
   "cell_type": "code",
   "execution_count": null,
   "metadata": {},
   "outputs": [],
   "source": [
    "background_color = '#5fa1bc'\n",
    "sns.set_theme(style=\"whitegrid\", rc={\"axes.facecolor\": background_color})\n",
    "plt.subplots(figsize=(10, 5))\n",
    "p = sns.countplot(y=\"state_of_order\", data=meta_food, palette='magma', edgecolor='white', linewidth=2, width=0.7)\n",
    "for container in p.containers:\n",
    "    plt.bar_label(container, label_type=\"center\", color=\"black\", fontsize=17, weight='bold', padding=6, position=(0.5, 0.5),\n",
    "                  bbox={\"boxstyle\": \"round\", \"pad\": 0.2, \"facecolor\": \"white\", \"edgecolor\": \"black\", \"linewidth\": 2, \"alpha\": 1})\n",
    "plt.title(\"state_of_order in the dataset\")\n",
    "plt.xlabel(\"Count\")\n",
    "plt.ylabel(\"state_of_order\")\n",
    "plt.show()"
   ]
  },
  {
   "cell_type": "code",
   "execution_count": null,
   "metadata": {},
   "outputs": [],
   "source": [
    "background_color = '#5fa1bc'\n",
    "sns.set_theme(style=\"whitegrid\", rc={\"axes.facecolor\": background_color})\n",
    "plt.subplots(figsize=(10, 5))\n",
    "p = sns.countplot(y=\"Feedback\", data=meta_food, palette='magma', edgecolor='white', linewidth=2, width=0.7)\n",
    "for container in p.containers:\n",
    "    plt.bar_label(container, label_type=\"center\", color=\"black\", fontsize=17, weight='bold', padding=6, position=(0.5, 0.5),\n",
    "                  bbox={\"boxstyle\": \"round\", \"pad\": 0.2, \"facecolor\": \"white\", \"edgecolor\": \"black\", \"linewidth\": 2, \"alpha\": 1})\n",
    "plt.title(\"Feedback in the dataset\")\n",
    "plt.xlabel(\"Count\")\n",
    "plt.ylabel(\"Feedback\")\n",
    "plt.show()"
   ]
  },
  {
   "cell_type": "code",
   "execution_count": null,
   "metadata": {},
   "outputs": [],
   "source": [
    "sns.set_theme(style=\"whitegrid\", rc={\"axes.facecolor\": \"#5fa1bc\"})\n",
    "cmap = sns.color_palette(\"magma\", as_cmap=True)\n",
    "plt.figure(figsize=(10, 6))\n",
    "histplot = sns.histplot(data=meta_food, x=\"Age\", bins=20, palette=cmap, edgecolor='white', kde=True)\n",
    "histplot.get_lines()[0].set_color(\"#4cc9f0\")\n",
    "mean_value = meta_food[\"Age\"].mean()\n",
    "median_value = meta_food[\"Age\"].median()\n",
    "plt.axvline(mean_value, color='red', linestyle='dashed', linewidth=2, label=f'Mean: {mean_value:.2f}')\n",
    "plt.axvline(median_value, color='green', linestyle='dashed', linewidth=2, label=f'Median: {median_value:.2f}')\n",
    "plt.title(\"Distribution of Age in dataset with Mean and Median\")\n",
    "plt.xlabel(\"Age\")\n",
    "plt.ylabel(\"Count\")\n",
    "plt.legend()\n",
    "plt.show()"
   ]
  },
  {
   "cell_type": "code",
   "execution_count": null,
   "metadata": {},
   "outputs": [],
   "source": [
    "sns.set_theme(style=\"whitegrid\", rc={\"axes.facecolor\": \"#5fa1bc\"})\n",
    "cmap = sns.color_palette(\"magma\", as_cmap=True)\n",
    "plt.figure(figsize=(10, 6))\n",
    "histplot = sns.histplot(data=meta_food, x=\"Family size\", bins=20, palette=cmap, edgecolor='white', kde=True)\n",
    "histplot.get_lines()[0].set_color(\"#4cc9f0\")\n",
    "mean_value = meta_food[\"Family size\"].mean()\n",
    "median_value = meta_food[\"Family size\"].median()\n",
    "plt.axvline(mean_value, color='red', linestyle='dashed', linewidth=2, label=f'Mean: {mean_value:.2f}')\n",
    "plt.axvline(median_value, color='green', linestyle='dashed', linewidth=2, label=f'Median: {median_value:.2f}')\n",
    "plt.title(\"Distribution of Family size in dataset with Mean and Median\")\n",
    "plt.xlabel(\"Family Size\")\n",
    "plt.ylabel(\"Count\")\n",
    "plt.legend()\n",
    "plt.show()"
   ]
  },
  {
   "cell_type": "code",
   "execution_count": null,
   "metadata": {},
   "outputs": [],
   "source": [
    "sns.set_theme(style=\"whitegrid\", rc={\"axes.facecolor\": \"#5fa1bc\"})\n",
    "cmap = sns.color_palette(\"magma\", as_cmap=True)\n",
    "plt.figure(figsize=(10, 6))\n",
    "histplot = sns.histplot(data=meta_food, x=\"latitude\", bins=20, palette=cmap, edgecolor='white', kde=True)\n",
    "histplot.get_lines()[0].set_color(\"#4cc9f0\")\n",
    "mean_value = meta_food[\"latitude\"].mean()\n",
    "median_value = meta_food[\"latitude\"].median()\n",
    "plt.axvline(mean_value, color='red', linestyle='dashed', linewidth=2, label=f'Mean: {mean_value:.2f}')\n",
    "plt.axvline(median_value, color='green', linestyle='dashed', linewidth=2, label=f'Median: {median_value:.2f}')\n",
    "plt.title(\"Distribution of latitude in dataset with Mean and Median\")\n",
    "plt.xlabel(\"latitude\")\n",
    "plt.ylabel(\"Count\")\n",
    "plt.legend()\n",
    "plt.show()"
   ]
  },
  {
   "cell_type": "code",
   "execution_count": null,
   "metadata": {},
   "outputs": [],
   "source": [
    "sns.set_theme(style=\"whitegrid\", rc={\"axes.facecolor\": \"#5fa1bc\"})\n",
    "cmap = sns.color_palette(\"magma\", as_cmap=True)\n",
    "plt.figure(figsize=(10, 6))\n",
    "histplot = sns.histplot(data=meta_food, x=\"longitude\", bins=20, palette=cmap, edgecolor='white', kde=True)\n",
    "histplot.get_lines()[0].set_color(\"#4cc9f0\")\n",
    "mean_value = meta_food[\"longitude\"].mean()\n",
    "median_value = meta_food[\"longitude\"].median()\n",
    "plt.axvline(mean_value, color='red', linestyle='dashed', linewidth=2, label=f'Mean: {mean_value:.2f}')\n",
    "plt.axvline(median_value, color='green', linestyle='dashed', linewidth=2, label=f'Median: {median_value:.2f}')\n",
    "plt.title(\"Distribution of longitude in dataset with Mean and Median\")\n",
    "plt.xlabel(\"longitude\")\n",
    "plt.ylabel(\"Count\")\n",
    "plt.legend()\n",
    "plt.show()"
   ]
  },
  {
   "cell_type": "code",
   "execution_count": null,
   "metadata": {},
   "outputs": [],
   "source": [
    "fig = px.scatter_geo(\n",
    "    meta_food, \n",
    "    lat='latitude', \n",
    "    lon='longitude', \n",
    "    text='Pin code', \n",
    "    title='Geographical Chart with Pincodes'\n",
    ")\n",
    "\n",
    "# Show the plot\n",
    "fig.show()"
   ]
  },
  {
   "cell_type": "code",
   "execution_count": null,
   "metadata": {},
   "outputs": [],
   "source": [
    "# Split the data into features and target\n",
    "X = meta_food.drop('Feedback', axis=1)\n",
    "y = meta_food['Feedback']\n",
    "\n",
    "# Define the column transformer\n",
    "numeric_features = ['Age', 'Family size', 'Pin code', 'longitude', 'latitude']\n",
    "numeric_transformer = Pipeline(steps=[\n",
    "    ('scaler', StandardScaler())\n",
    "])\n",
    "\n",
    "categorical_features = ['Gender', 'Marital Status', 'Occupation', 'Monthly Income', 'Educational Qualifications', 'state_of_order']\n",
    "categorical_transformer = Pipeline(steps=[\n",
    "    ('encoder', OneHotEncoder())\n",
    "])\n",
    "\n",
    "preprocessor = ColumnTransformer(\n",
    "    transformers=[\n",
    "        ('num', numeric_transformer, numeric_features),\n",
    "        ('cat', categorical_transformer, categorical_features)\n",
    "    ])\n",
    "\n",
    "# Split the data into training and test sets\n",
    "X_train, X_test, y_train, y_test = train_test_split(X, y, test_size=0.2, random_state=42)\n",
    "\n",
    "# Define the pipeline\n",
    "pipeline = Pipeline(steps=[('preprocessor', preprocessor),\n",
    "                           ('classifier', RandomForestClassifier())])\n",
    "\n",
    "# Define the parameter grid to search\n",
    "param_grid = {\n",
    "    'classifier__n_estimators': [50, 100, 200],\n",
    "    'classifier__max_depth': [None, 10, 20],\n",
    "    'classifier__min_samples_split': [2, 5, 10],\n",
    "    'classifier__min_samples_leaf': [1, 2, 4]\n",
    "}\n",
    "\n",
    "# Create the GridSearchCV object\n",
    "grid_search = GridSearchCV(pipeline, param_grid, cv=5, n_jobs=-1, verbose=1)\n",
    "\n",
    "# Fit the grid search\n",
    "grid_search.fit(X_train, y_train)\n",
    "\n",
    "# Get the best model\n",
    "best_model = grid_search.best_estimator_\n",
    "\n",
    "# Predictions\n",
    "y_pred = best_model.predict(X_test)\n",
    "\n",
    "# Calculate accuracy\n",
    "accuracy = accuracy_score(y_test, y_pred)\n",
    "print(f\"Best parameters: {grid_search.best_params_}\")\n",
    "print(f\"Accuracy: {accuracy}\")"
   ]
  }
 ],
 "metadata": {
  "kernelspec": {
   "display_name": "Python 3",
   "language": "python",
   "name": "python3"
  },
  "language_info": {
   "codemirror_mode": {
    "name": "ipython",
    "version": 3
   },
   "file_extension": ".py",
   "mimetype": "text/x-python",
   "name": "python",
   "nbconvert_exporter": "python",
   "pygments_lexer": "ipython3",
   "version": "3.11.3"
  }
 },
 "nbformat": 4,
 "nbformat_minor": 2
}
