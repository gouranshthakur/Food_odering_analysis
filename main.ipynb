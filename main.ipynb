{
 "cells": [
  {
   "cell_type": "code",
   "execution_count": 44,
   "metadata": {},
   "outputs": [],
   "source": [
    "import pandas as pd  # Data manipulation and analysis\n",
    "import numpy as np  # Numerical operations\n",
    "import seaborn as sns  # Statistical data visualization\n",
    "import plotly.express as px\n",
    "import matplotlib.pyplot as plt  # Plotting and visualization\n",
    "from IPython.display import display, HTML  # Displaying HTML output in Jupyter notebooks\n",
    "import warnings  # Suppress warnings\n",
    "from colorama import Fore, Style  # Colored terminal text\n",
    "\n",
    "# Import classification models from sklearn\n",
    "from sklearn.tree import DecisionTreeClassifier  # Decision Tree Classifier\n",
    "from sklearn.ensemble import RandomForestClassifier  # Random Forest Classifier\n",
    "from sklearn.svm import SVC  # Support Vector Classifier\n",
    "from sklearn.neighbors import KNeighborsClassifier  # K-Nearest Neighbors Classifier\n",
    "\n",
    "# Import LightGBM classifier\n",
    "from lightgbm import LGBMClassifier  # LightGBM Classifier\n",
    "\n",
    "from sklearn.model_selection import GridSearchCV, train_test_split  # Model selection and hyperparameter tuning\n",
    "from sklearn.preprocessing import MinMaxScaler, StandardScaler, QuantileTransformer  # Data scaling and transformation\n",
    "from sklearn.metrics import accuracy_score, precision_score, recall_score, f1_score  # Model evaluation metrics\n",
    "\n",
    "warnings.filterwarnings(\"ignore\", category=FutureWarning)  # Suppress FutureWarning messages\n",
    "import lightgbm as lgb\n",
    "from sklearn.metrics import roc_auc_score\n",
    "from sklearn.preprocessing import LabelEncoder\n",
    "from sklearn.pipeline import Pipeline\n",
    "from sklearn.compose import ColumnTransformer\n",
    "from sklearn.preprocessing import StandardScaler, OneHotEncoder\n",
    "from sklearn.model_selection import train_test_split, GridSearchCV\n",
    "from sklearn.ensemble import RandomForestClassifier\n",
    "from sklearn.metrics import accuracy_score\n",
    "warnings.filterwarnings('ignore')"
   ]
  },
  {
   "cell_type": "code",
   "execution_count": 45,
   "metadata": {},
   "outputs": [],
   "source": [
    "meta_food = pd.read_csv('onlinefoods.csv')"
   ]
  },
  {
   "cell_type": "code",
   "execution_count": 46,
   "metadata": {},
   "outputs": [],
   "source": [
    "meta_food.rename(columns={'Output': 'state_of_order'},inplace=True)"
   ]
  },
  {
   "cell_type": "code",
   "execution_count": 47,
   "metadata": {},
   "outputs": [],
   "source": [
    "meta_food = meta_food.drop('Unnamed: 12',axis=1)"
   ]
  },
  {
   "cell_type": "code",
   "execution_count": 48,
   "metadata": {},
   "outputs": [
    {
     "data": {
      "text/html": [
       "\n",
       "    <div style=\"\n",
       "        text-align: center;\n",
       "        background: #14adc6;\n",
       "        font-family: 'Montserrat', sans-serif;\n",
       "        color: white;\n",
       "        padding: 15px;\n",
       "        font-size: 30px;\n",
       "        font-weight: bold;\n",
       "        line-height: 1;\n",
       "        border-radius: 20px 20px 0 0;\n",
       "        margin-bottom: 20px;\n",
       "        box-shadow: 0px 4px 6px rgba(0, 0, 0, 0.2);\n",
       "        border: 3px dashed #14adc6;\n",
       "    \">\n",
       "        🔝 Top 5 rows of Dataset\n",
       "    </div>\n",
       "    "
      ],
      "text/plain": [
       "<IPython.core.display.HTML object>"
      ]
     },
     "metadata": {},
     "output_type": "display_data"
    },
    {
     "data": {
      "text/html": [
       "<style type=\"text/css\">\n",
       "#T_6ef4e th {\n",
       "  color: white;\n",
       "  background-color: #14adc6;\n",
       "}\n",
       "#T_6ef4e_row0_col0, #T_6ef4e_row0_col1, #T_6ef4e_row0_col2, #T_6ef4e_row0_col3, #T_6ef4e_row0_col4, #T_6ef4e_row0_col5, #T_6ef4e_row0_col6, #T_6ef4e_row0_col7, #T_6ef4e_row0_col8, #T_6ef4e_row0_col9, #T_6ef4e_row0_col10, #T_6ef4e_row0_col11, #T_6ef4e_row1_col0, #T_6ef4e_row1_col1, #T_6ef4e_row1_col2, #T_6ef4e_row1_col3, #T_6ef4e_row1_col4, #T_6ef4e_row1_col5, #T_6ef4e_row1_col6, #T_6ef4e_row1_col7, #T_6ef4e_row1_col8, #T_6ef4e_row1_col9, #T_6ef4e_row1_col10, #T_6ef4e_row1_col11, #T_6ef4e_row2_col0, #T_6ef4e_row2_col1, #T_6ef4e_row2_col2, #T_6ef4e_row2_col3, #T_6ef4e_row2_col4, #T_6ef4e_row2_col5, #T_6ef4e_row2_col6, #T_6ef4e_row2_col7, #T_6ef4e_row2_col8, #T_6ef4e_row2_col9, #T_6ef4e_row2_col10, #T_6ef4e_row2_col11, #T_6ef4e_row3_col0, #T_6ef4e_row3_col1, #T_6ef4e_row3_col2, #T_6ef4e_row3_col3, #T_6ef4e_row3_col4, #T_6ef4e_row3_col5, #T_6ef4e_row3_col6, #T_6ef4e_row3_col7, #T_6ef4e_row3_col8, #T_6ef4e_row3_col9, #T_6ef4e_row3_col10, #T_6ef4e_row3_col11, #T_6ef4e_row4_col0, #T_6ef4e_row4_col1, #T_6ef4e_row4_col2, #T_6ef4e_row4_col3, #T_6ef4e_row4_col4, #T_6ef4e_row4_col5, #T_6ef4e_row4_col6, #T_6ef4e_row4_col7, #T_6ef4e_row4_col8, #T_6ef4e_row4_col9, #T_6ef4e_row4_col10, #T_6ef4e_row4_col11 {\n",
       "  text-align: center;\n",
       "}\n",
       "</style>\n",
       "<table id=\"T_6ef4e\">\n",
       "  <thead>\n",
       "    <tr>\n",
       "      <th id=\"T_6ef4e_level0_col0\" class=\"col_heading level0 col0\" >Age</th>\n",
       "      <th id=\"T_6ef4e_level0_col1\" class=\"col_heading level0 col1\" >Gender</th>\n",
       "      <th id=\"T_6ef4e_level0_col2\" class=\"col_heading level0 col2\" >Marital Status</th>\n",
       "      <th id=\"T_6ef4e_level0_col3\" class=\"col_heading level0 col3\" >Occupation</th>\n",
       "      <th id=\"T_6ef4e_level0_col4\" class=\"col_heading level0 col4\" >Monthly Income</th>\n",
       "      <th id=\"T_6ef4e_level0_col5\" class=\"col_heading level0 col5\" >Educational Qualifications</th>\n",
       "      <th id=\"T_6ef4e_level0_col6\" class=\"col_heading level0 col6\" >Family size</th>\n",
       "      <th id=\"T_6ef4e_level0_col7\" class=\"col_heading level0 col7\" >latitude</th>\n",
       "      <th id=\"T_6ef4e_level0_col8\" class=\"col_heading level0 col8\" >longitude</th>\n",
       "      <th id=\"T_6ef4e_level0_col9\" class=\"col_heading level0 col9\" >Pin code</th>\n",
       "      <th id=\"T_6ef4e_level0_col10\" class=\"col_heading level0 col10\" >state_of_order</th>\n",
       "      <th id=\"T_6ef4e_level0_col11\" class=\"col_heading level0 col11\" >Feedback</th>\n",
       "    </tr>\n",
       "  </thead>\n",
       "  <tbody>\n",
       "    <tr>\n",
       "      <td id=\"T_6ef4e_row0_col0\" class=\"data row0 col0\" >20</td>\n",
       "      <td id=\"T_6ef4e_row0_col1\" class=\"data row0 col1\" >Female</td>\n",
       "      <td id=\"T_6ef4e_row0_col2\" class=\"data row0 col2\" >Single</td>\n",
       "      <td id=\"T_6ef4e_row0_col3\" class=\"data row0 col3\" >Student</td>\n",
       "      <td id=\"T_6ef4e_row0_col4\" class=\"data row0 col4\" >No Income</td>\n",
       "      <td id=\"T_6ef4e_row0_col5\" class=\"data row0 col5\" >Post Graduate</td>\n",
       "      <td id=\"T_6ef4e_row0_col6\" class=\"data row0 col6\" >4</td>\n",
       "      <td id=\"T_6ef4e_row0_col7\" class=\"data row0 col7\" >12.976600</td>\n",
       "      <td id=\"T_6ef4e_row0_col8\" class=\"data row0 col8\" >77.599300</td>\n",
       "      <td id=\"T_6ef4e_row0_col9\" class=\"data row0 col9\" >560001</td>\n",
       "      <td id=\"T_6ef4e_row0_col10\" class=\"data row0 col10\" >Yes</td>\n",
       "      <td id=\"T_6ef4e_row0_col11\" class=\"data row0 col11\" >Positive</td>\n",
       "    </tr>\n",
       "    <tr>\n",
       "      <td id=\"T_6ef4e_row1_col0\" class=\"data row1 col0\" >24</td>\n",
       "      <td id=\"T_6ef4e_row1_col1\" class=\"data row1 col1\" >Female</td>\n",
       "      <td id=\"T_6ef4e_row1_col2\" class=\"data row1 col2\" >Single</td>\n",
       "      <td id=\"T_6ef4e_row1_col3\" class=\"data row1 col3\" >Student</td>\n",
       "      <td id=\"T_6ef4e_row1_col4\" class=\"data row1 col4\" >Below Rs.10000</td>\n",
       "      <td id=\"T_6ef4e_row1_col5\" class=\"data row1 col5\" >Graduate</td>\n",
       "      <td id=\"T_6ef4e_row1_col6\" class=\"data row1 col6\" >3</td>\n",
       "      <td id=\"T_6ef4e_row1_col7\" class=\"data row1 col7\" >12.977000</td>\n",
       "      <td id=\"T_6ef4e_row1_col8\" class=\"data row1 col8\" >77.577300</td>\n",
       "      <td id=\"T_6ef4e_row1_col9\" class=\"data row1 col9\" >560009</td>\n",
       "      <td id=\"T_6ef4e_row1_col10\" class=\"data row1 col10\" >Yes</td>\n",
       "      <td id=\"T_6ef4e_row1_col11\" class=\"data row1 col11\" >Positive</td>\n",
       "    </tr>\n",
       "    <tr>\n",
       "      <td id=\"T_6ef4e_row2_col0\" class=\"data row2 col0\" >22</td>\n",
       "      <td id=\"T_6ef4e_row2_col1\" class=\"data row2 col1\" >Male</td>\n",
       "      <td id=\"T_6ef4e_row2_col2\" class=\"data row2 col2\" >Single</td>\n",
       "      <td id=\"T_6ef4e_row2_col3\" class=\"data row2 col3\" >Student</td>\n",
       "      <td id=\"T_6ef4e_row2_col4\" class=\"data row2 col4\" >Below Rs.10000</td>\n",
       "      <td id=\"T_6ef4e_row2_col5\" class=\"data row2 col5\" >Post Graduate</td>\n",
       "      <td id=\"T_6ef4e_row2_col6\" class=\"data row2 col6\" >3</td>\n",
       "      <td id=\"T_6ef4e_row2_col7\" class=\"data row2 col7\" >12.955100</td>\n",
       "      <td id=\"T_6ef4e_row2_col8\" class=\"data row2 col8\" >77.659300</td>\n",
       "      <td id=\"T_6ef4e_row2_col9\" class=\"data row2 col9\" >560017</td>\n",
       "      <td id=\"T_6ef4e_row2_col10\" class=\"data row2 col10\" >Yes</td>\n",
       "      <td id=\"T_6ef4e_row2_col11\" class=\"data row2 col11\" >Negative </td>\n",
       "    </tr>\n",
       "    <tr>\n",
       "      <td id=\"T_6ef4e_row3_col0\" class=\"data row3 col0\" >22</td>\n",
       "      <td id=\"T_6ef4e_row3_col1\" class=\"data row3 col1\" >Female</td>\n",
       "      <td id=\"T_6ef4e_row3_col2\" class=\"data row3 col2\" >Single</td>\n",
       "      <td id=\"T_6ef4e_row3_col3\" class=\"data row3 col3\" >Student</td>\n",
       "      <td id=\"T_6ef4e_row3_col4\" class=\"data row3 col4\" >No Income</td>\n",
       "      <td id=\"T_6ef4e_row3_col5\" class=\"data row3 col5\" >Graduate</td>\n",
       "      <td id=\"T_6ef4e_row3_col6\" class=\"data row3 col6\" >6</td>\n",
       "      <td id=\"T_6ef4e_row3_col7\" class=\"data row3 col7\" >12.947300</td>\n",
       "      <td id=\"T_6ef4e_row3_col8\" class=\"data row3 col8\" >77.561600</td>\n",
       "      <td id=\"T_6ef4e_row3_col9\" class=\"data row3 col9\" >560019</td>\n",
       "      <td id=\"T_6ef4e_row3_col10\" class=\"data row3 col10\" >Yes</td>\n",
       "      <td id=\"T_6ef4e_row3_col11\" class=\"data row3 col11\" >Positive</td>\n",
       "    </tr>\n",
       "    <tr>\n",
       "      <td id=\"T_6ef4e_row4_col0\" class=\"data row4 col0\" >22</td>\n",
       "      <td id=\"T_6ef4e_row4_col1\" class=\"data row4 col1\" >Male</td>\n",
       "      <td id=\"T_6ef4e_row4_col2\" class=\"data row4 col2\" >Single</td>\n",
       "      <td id=\"T_6ef4e_row4_col3\" class=\"data row4 col3\" >Student</td>\n",
       "      <td id=\"T_6ef4e_row4_col4\" class=\"data row4 col4\" >Below Rs.10000</td>\n",
       "      <td id=\"T_6ef4e_row4_col5\" class=\"data row4 col5\" >Post Graduate</td>\n",
       "      <td id=\"T_6ef4e_row4_col6\" class=\"data row4 col6\" >4</td>\n",
       "      <td id=\"T_6ef4e_row4_col7\" class=\"data row4 col7\" >12.985000</td>\n",
       "      <td id=\"T_6ef4e_row4_col8\" class=\"data row4 col8\" >77.553300</td>\n",
       "      <td id=\"T_6ef4e_row4_col9\" class=\"data row4 col9\" >560010</td>\n",
       "      <td id=\"T_6ef4e_row4_col10\" class=\"data row4 col10\" >Yes</td>\n",
       "      <td id=\"T_6ef4e_row4_col11\" class=\"data row4 col11\" >Positive</td>\n",
       "    </tr>\n",
       "  </tbody>\n",
       "</table>\n"
      ],
      "text/plain": [
       "<IPython.core.display.HTML object>"
      ]
     },
     "metadata": {},
     "output_type": "display_data"
    },
    {
     "data": {
      "text/html": [
       "\n",
       "    <div style=\"\n",
       "        text-align: center;\n",
       "        background: #14adc6;\n",
       "        font-family: 'Montserrat', sans-serif;\n",
       "        color: white;\n",
       "        padding: 15px;\n",
       "        font-size: 30px;\n",
       "        font-weight: bold;\n",
       "        line-height: 1;\n",
       "        border-radius: 20px 20px 0 0;\n",
       "        margin-bottom: 20px;\n",
       "        box-shadow: 0px 4px 6px rgba(0, 0, 0, 0.2);\n",
       "        border: 3px dashed #14adc6;\n",
       "    \">\n",
       "        📊 Summary of Dataset\n",
       "    </div>\n",
       "    "
      ],
      "text/plain": [
       "<IPython.core.display.HTML object>"
      ]
     },
     "metadata": {},
     "output_type": "display_data"
    },
    {
     "data": {
      "text/html": [
       "<style type=\"text/css\">\n",
       "#T_290e6 th {\n",
       "  color: white;\n",
       "  background-color: #14adc6;\n",
       "}\n",
       "#T_290e6_row0_col0, #T_290e6_row0_col1, #T_290e6_row0_col2, #T_290e6_row0_col3, #T_290e6_row0_col4, #T_290e6_row1_col0, #T_290e6_row1_col1, #T_290e6_row1_col2, #T_290e6_row1_col3, #T_290e6_row1_col4, #T_290e6_row2_col0, #T_290e6_row2_col1, #T_290e6_row2_col2, #T_290e6_row2_col3, #T_290e6_row2_col4, #T_290e6_row3_col0, #T_290e6_row3_col1, #T_290e6_row3_col2, #T_290e6_row3_col3, #T_290e6_row3_col4, #T_290e6_row4_col0, #T_290e6_row4_col1, #T_290e6_row4_col2, #T_290e6_row4_col3, #T_290e6_row4_col4, #T_290e6_row5_col0, #T_290e6_row5_col1, #T_290e6_row5_col2, #T_290e6_row5_col3, #T_290e6_row5_col4, #T_290e6_row6_col0, #T_290e6_row6_col1, #T_290e6_row6_col2, #T_290e6_row6_col3, #T_290e6_row6_col4, #T_290e6_row7_col0, #T_290e6_row7_col1, #T_290e6_row7_col2, #T_290e6_row7_col3, #T_290e6_row7_col4 {\n",
       "  text-align: center;\n",
       "}\n",
       "</style>\n",
       "<table id=\"T_290e6\">\n",
       "  <thead>\n",
       "    <tr>\n",
       "      <th id=\"T_290e6_level0_col0\" class=\"col_heading level0 col0\" >Age</th>\n",
       "      <th id=\"T_290e6_level0_col1\" class=\"col_heading level0 col1\" >Family size</th>\n",
       "      <th id=\"T_290e6_level0_col2\" class=\"col_heading level0 col2\" >latitude</th>\n",
       "      <th id=\"T_290e6_level0_col3\" class=\"col_heading level0 col3\" >longitude</th>\n",
       "      <th id=\"T_290e6_level0_col4\" class=\"col_heading level0 col4\" >Pin code</th>\n",
       "    </tr>\n",
       "  </thead>\n",
       "  <tbody>\n",
       "    <tr>\n",
       "      <td id=\"T_290e6_row0_col0\" class=\"data row0 col0\" >388.000000</td>\n",
       "      <td id=\"T_290e6_row0_col1\" class=\"data row0 col1\" >388.000000</td>\n",
       "      <td id=\"T_290e6_row0_col2\" class=\"data row0 col2\" >388.000000</td>\n",
       "      <td id=\"T_290e6_row0_col3\" class=\"data row0 col3\" >388.000000</td>\n",
       "      <td id=\"T_290e6_row0_col4\" class=\"data row0 col4\" >388.000000</td>\n",
       "    </tr>\n",
       "    <tr>\n",
       "      <td id=\"T_290e6_row1_col0\" class=\"data row1 col0\" >24.628866</td>\n",
       "      <td id=\"T_290e6_row1_col1\" class=\"data row1 col1\" >3.280928</td>\n",
       "      <td id=\"T_290e6_row1_col2\" class=\"data row1 col2\" >12.972058</td>\n",
       "      <td id=\"T_290e6_row1_col3\" class=\"data row1 col3\" >77.600160</td>\n",
       "      <td id=\"T_290e6_row1_col4\" class=\"data row1 col4\" >560040.113402</td>\n",
       "    </tr>\n",
       "    <tr>\n",
       "      <td id=\"T_290e6_row2_col0\" class=\"data row2 col0\" >2.975593</td>\n",
       "      <td id=\"T_290e6_row2_col1\" class=\"data row2 col1\" >1.351025</td>\n",
       "      <td id=\"T_290e6_row2_col2\" class=\"data row2 col2\" >0.044489</td>\n",
       "      <td id=\"T_290e6_row2_col3\" class=\"data row2 col3\" >0.051354</td>\n",
       "      <td id=\"T_290e6_row2_col4\" class=\"data row2 col4\" >31.399609</td>\n",
       "    </tr>\n",
       "    <tr>\n",
       "      <td id=\"T_290e6_row3_col0\" class=\"data row3 col0\" >18.000000</td>\n",
       "      <td id=\"T_290e6_row3_col1\" class=\"data row3 col1\" >1.000000</td>\n",
       "      <td id=\"T_290e6_row3_col2\" class=\"data row3 col2\" >12.865200</td>\n",
       "      <td id=\"T_290e6_row3_col3\" class=\"data row3 col3\" >77.484200</td>\n",
       "      <td id=\"T_290e6_row3_col4\" class=\"data row3 col4\" >560001.000000</td>\n",
       "    </tr>\n",
       "    <tr>\n",
       "      <td id=\"T_290e6_row4_col0\" class=\"data row4 col0\" >23.000000</td>\n",
       "      <td id=\"T_290e6_row4_col1\" class=\"data row4 col1\" >2.000000</td>\n",
       "      <td id=\"T_290e6_row4_col2\" class=\"data row4 col2\" >12.936900</td>\n",
       "      <td id=\"T_290e6_row4_col3\" class=\"data row4 col3\" >77.565275</td>\n",
       "      <td id=\"T_290e6_row4_col4\" class=\"data row4 col4\" >560010.750000</td>\n",
       "    </tr>\n",
       "    <tr>\n",
       "      <td id=\"T_290e6_row5_col0\" class=\"data row5 col0\" >24.000000</td>\n",
       "      <td id=\"T_290e6_row5_col1\" class=\"data row5 col1\" >3.000000</td>\n",
       "      <td id=\"T_290e6_row5_col2\" class=\"data row5 col2\" >12.977000</td>\n",
       "      <td id=\"T_290e6_row5_col3\" class=\"data row5 col3\" >77.592100</td>\n",
       "      <td id=\"T_290e6_row5_col4\" class=\"data row5 col4\" >560033.500000</td>\n",
       "    </tr>\n",
       "    <tr>\n",
       "      <td id=\"T_290e6_row6_col0\" class=\"data row6 col0\" >26.000000</td>\n",
       "      <td id=\"T_290e6_row6_col1\" class=\"data row6 col1\" >4.000000</td>\n",
       "      <td id=\"T_290e6_row6_col2\" class=\"data row6 col2\" >12.997025</td>\n",
       "      <td id=\"T_290e6_row6_col3\" class=\"data row6 col3\" >77.630900</td>\n",
       "      <td id=\"T_290e6_row6_col4\" class=\"data row6 col4\" >560068.000000</td>\n",
       "    </tr>\n",
       "    <tr>\n",
       "      <td id=\"T_290e6_row7_col0\" class=\"data row7 col0\" >33.000000</td>\n",
       "      <td id=\"T_290e6_row7_col1\" class=\"data row7 col1\" >6.000000</td>\n",
       "      <td id=\"T_290e6_row7_col2\" class=\"data row7 col2\" >13.102000</td>\n",
       "      <td id=\"T_290e6_row7_col3\" class=\"data row7 col3\" >77.758200</td>\n",
       "      <td id=\"T_290e6_row7_col4\" class=\"data row7 col4\" >560109.000000</td>\n",
       "    </tr>\n",
       "  </tbody>\n",
       "</table>\n"
      ],
      "text/plain": [
       "<IPython.core.display.HTML object>"
      ]
     },
     "metadata": {},
     "output_type": "display_data"
    },
    {
     "data": {
      "text/html": [
       "\n",
       "    <div style=\"\n",
       "        text-align: center;\n",
       "        background: #14adc6;\n",
       "        font-family: 'Montserrat', sans-serif;\n",
       "        color: white;\n",
       "        padding: 15px;\n",
       "        font-size: 30px;\n",
       "        font-weight: bold;\n",
       "        line-height: 1;\n",
       "        border-radius: 20px 20px 0 0;\n",
       "        margin-bottom: 20px;\n",
       "        box-shadow: 0px 4px 6px rgba(0, 0, 0, 0.2);\n",
       "        border: 3px dashed #14adc6;\n",
       "    \">\n",
       "        ❌ Null Values in Dataset\n",
       "    </div>\n",
       "    "
      ],
      "text/plain": [
       "<IPython.core.display.HTML object>"
      ]
     },
     "metadata": {},
     "output_type": "display_data"
    },
    {
     "data": {
      "text/html": [
       "<p>No null values in the training dataset.</p>"
      ],
      "text/plain": [
       "<IPython.core.display.HTML object>"
      ]
     },
     "metadata": {},
     "output_type": "display_data"
    },
    {
     "data": {
      "text/html": [
       "\n",
       "    <div style=\"\n",
       "        text-align: center;\n",
       "        background: #14adc6;\n",
       "        font-family: 'Montserrat', sans-serif;\n",
       "        color: white;\n",
       "        padding: 15px;\n",
       "        font-size: 30px;\n",
       "        font-weight: bold;\n",
       "        line-height: 1;\n",
       "        border-radius: 20px 20px 0 0;\n",
       "        margin-bottom: 20px;\n",
       "        box-shadow: 0px 4px 6px rgba(0, 0, 0, 0.2);\n",
       "        border: 3px dashed #14adc6;\n",
       "    \">\n",
       "        ♻️ Duplicate Values in Dataset\n",
       "    </div>\n",
       "    "
      ],
      "text/plain": [
       "<IPython.core.display.HTML object>"
      ]
     },
     "metadata": {},
     "output_type": "display_data"
    },
    {
     "data": {
      "text/html": [
       "<h3>Training Dataset:</h3>"
      ],
      "text/plain": [
       "<IPython.core.display.HTML object>"
      ]
     },
     "metadata": {},
     "output_type": "display_data"
    },
    {
     "data": {
      "text/html": [
       "<p>103 duplicate rows found.</p>"
      ],
      "text/plain": [
       "<IPython.core.display.HTML object>"
      ]
     },
     "metadata": {},
     "output_type": "display_data"
    },
    {
     "data": {
      "text/html": [
       "\n",
       "    <div style=\"\n",
       "        text-align: center;\n",
       "        background: #14adc6;\n",
       "        font-family: 'Montserrat', sans-serif;\n",
       "        color: white;\n",
       "        padding: 15px;\n",
       "        font-size: 30px;\n",
       "        font-weight: bold;\n",
       "        line-height: 1;\n",
       "        border-radius: 20px 20px 0 0;\n",
       "        margin-bottom: 20px;\n",
       "        box-shadow: 0px 4px 6px rgba(0, 0, 0, 0.2);\n",
       "        border: 3px dashed #14adc6;\n",
       "    \">\n",
       "        📏 Number of Rows and Columns\n",
       "    </div>\n",
       "    "
      ],
      "text/plain": [
       "<IPython.core.display.HTML object>"
      ]
     },
     "metadata": {},
     "output_type": "display_data"
    },
    {
     "data": {
      "text/html": [
       "<h3>Training Dataset:</h3>"
      ],
      "text/plain": [
       "<IPython.core.display.HTML object>"
      ]
     },
     "metadata": {},
     "output_type": "display_data"
    },
    {
     "data": {
      "text/html": [
       "<p>Rows: 388, Columns: 12</p>"
      ],
      "text/plain": [
       "<IPython.core.display.HTML object>"
      ]
     },
     "metadata": {},
     "output_type": "display_data"
    },
    {
     "data": {
      "text/html": [
       "\n",
       "    <div style=\"\n",
       "        text-align: center;\n",
       "        background: #14adc6;\n",
       "        font-family: 'Montserrat', sans-serif;\n",
       "        color: white;\n",
       "        padding: 15px;\n",
       "        font-size: 30px;\n",
       "        font-weight: bold;\n",
       "        line-height: 1;\n",
       "        border-radius: 20px 20px 0 0;\n",
       "        margin-bottom: 20px;\n",
       "        box-shadow: 0px 4px 6px rgba(0, 0, 0, 0.2);\n",
       "        border: 3px dashed #14adc6;\n",
       "    \">\n",
       "        🔢 Unique Values in Dataset\n",
       "    </div>\n",
       "    "
      ],
      "text/plain": [
       "<IPython.core.display.HTML object>"
      ]
     },
     "metadata": {},
     "output_type": "display_data"
    },
    {
     "data": {
      "text/html": [
       "<style type=\"text/css\">\n",
       "#T_fad67 th {\n",
       "  color: white;\n",
       "  background-color: #14adc6;\n",
       "}\n",
       "#T_fad67_row0_col0, #T_fad67_row0_col1, #T_fad67_row0_col2, #T_fad67_row1_col0, #T_fad67_row1_col1, #T_fad67_row1_col2, #T_fad67_row2_col0, #T_fad67_row2_col1, #T_fad67_row2_col2, #T_fad67_row3_col0, #T_fad67_row3_col1, #T_fad67_row3_col2, #T_fad67_row4_col0, #T_fad67_row4_col1, #T_fad67_row4_col2, #T_fad67_row5_col0, #T_fad67_row5_col1, #T_fad67_row5_col2, #T_fad67_row6_col0, #T_fad67_row6_col1, #T_fad67_row6_col2, #T_fad67_row7_col0, #T_fad67_row7_col1, #T_fad67_row7_col2, #T_fad67_row8_col0, #T_fad67_row8_col1, #T_fad67_row8_col2, #T_fad67_row9_col0, #T_fad67_row9_col1, #T_fad67_row9_col2, #T_fad67_row10_col0, #T_fad67_row10_col1, #T_fad67_row10_col2, #T_fad67_row11_col0, #T_fad67_row11_col1, #T_fad67_row11_col2 {\n",
       "  text-align: center;\n",
       "}\n",
       "</style>\n",
       "<table id=\"T_fad67\">\n",
       "  <thead>\n",
       "    <tr>\n",
       "      <th id=\"T_fad67_level0_col0\" class=\"col_heading level0 col0\" >Column Name</th>\n",
       "      <th id=\"T_fad67_level0_col1\" class=\"col_heading level0 col1\" >Data Type</th>\n",
       "      <th id=\"T_fad67_level0_col2\" class=\"col_heading level0 col2\" >Unique Values</th>\n",
       "    </tr>\n",
       "  </thead>\n",
       "  <tbody>\n",
       "    <tr>\n",
       "      <td id=\"T_fad67_row0_col0\" class=\"data row0 col0\" >Age</td>\n",
       "      <td id=\"T_fad67_row0_col1\" class=\"data row0 col1\" >int64</td>\n",
       "      <td id=\"T_fad67_row0_col2\" class=\"data row0 col2\" >20, 24, 22, 27, 23, 21, 28</td>\n",
       "    </tr>\n",
       "    <tr>\n",
       "      <td id=\"T_fad67_row1_col0\" class=\"data row1 col0\" >Gender</td>\n",
       "      <td id=\"T_fad67_row1_col1\" class=\"data row1 col1\" >object</td>\n",
       "      <td id=\"T_fad67_row1_col2\" class=\"data row1 col2\" >Female, Male</td>\n",
       "    </tr>\n",
       "    <tr>\n",
       "      <td id=\"T_fad67_row2_col0\" class=\"data row2 col0\" >Marital Status</td>\n",
       "      <td id=\"T_fad67_row2_col1\" class=\"data row2 col1\" >object</td>\n",
       "      <td id=\"T_fad67_row2_col2\" class=\"data row2 col2\" >Single, Married, Prefer not to say</td>\n",
       "    </tr>\n",
       "    <tr>\n",
       "      <td id=\"T_fad67_row3_col0\" class=\"data row3 col0\" >Occupation</td>\n",
       "      <td id=\"T_fad67_row3_col1\" class=\"data row3 col1\" >object</td>\n",
       "      <td id=\"T_fad67_row3_col2\" class=\"data row3 col2\" >Student, Employee, Self Employeed, House wife</td>\n",
       "    </tr>\n",
       "    <tr>\n",
       "      <td id=\"T_fad67_row4_col0\" class=\"data row4 col0\" >Monthly Income</td>\n",
       "      <td id=\"T_fad67_row4_col1\" class=\"data row4 col1\" >object</td>\n",
       "      <td id=\"T_fad67_row4_col2\" class=\"data row4 col2\" >No Income, Below Rs.10000, More than 50000, 10001 to 25000, 25001 to 50000</td>\n",
       "    </tr>\n",
       "    <tr>\n",
       "      <td id=\"T_fad67_row5_col0\" class=\"data row5 col0\" >Educational Qualifications</td>\n",
       "      <td id=\"T_fad67_row5_col1\" class=\"data row5 col1\" >object</td>\n",
       "      <td id=\"T_fad67_row5_col2\" class=\"data row5 col2\" >Post Graduate, Graduate, Ph.D, Uneducated, School</td>\n",
       "    </tr>\n",
       "    <tr>\n",
       "      <td id=\"T_fad67_row6_col0\" class=\"data row6 col0\" >Family size</td>\n",
       "      <td id=\"T_fad67_row6_col1\" class=\"data row6 col1\" >int64</td>\n",
       "      <td id=\"T_fad67_row6_col2\" class=\"data row6 col2\" >4, 3, 6, 2, 5, 1</td>\n",
       "    </tr>\n",
       "    <tr>\n",
       "      <td id=\"T_fad67_row7_col0\" class=\"data row7 col0\" >latitude</td>\n",
       "      <td id=\"T_fad67_row7_col1\" class=\"data row7 col1\" >float64</td>\n",
       "      <td id=\"T_fad67_row7_col2\" class=\"data row7 col2\" >12.9766, 12.977, 12.9551, 12.9473, 12.985, 12.9299, 12.9828</td>\n",
       "    </tr>\n",
       "    <tr>\n",
       "      <td id=\"T_fad67_row8_col0\" class=\"data row8 col0\" >longitude</td>\n",
       "      <td id=\"T_fad67_row8_col1\" class=\"data row8 col1\" >float64</td>\n",
       "      <td id=\"T_fad67_row8_col2\" class=\"data row8 col2\" >77.5993, 77.5773, 77.6593, 77.5616, 77.5533, 77.6848, 77.6131</td>\n",
       "    </tr>\n",
       "    <tr>\n",
       "      <td id=\"T_fad67_row9_col0\" class=\"data row9 col0\" >Pin code</td>\n",
       "      <td id=\"T_fad67_row9_col1\" class=\"data row9 col1\" >int64</td>\n",
       "      <td id=\"T_fad67_row9_col2\" class=\"data row9 col2\" >560001, 560009, 560017, 560019, 560010, 560103, 560042</td>\n",
       "    </tr>\n",
       "    <tr>\n",
       "      <td id=\"T_fad67_row10_col0\" class=\"data row10 col0\" >state_of_order</td>\n",
       "      <td id=\"T_fad67_row10_col1\" class=\"data row10 col1\" >object</td>\n",
       "      <td id=\"T_fad67_row10_col2\" class=\"data row10 col2\" >Yes, No</td>\n",
       "    </tr>\n",
       "    <tr>\n",
       "      <td id=\"T_fad67_row11_col0\" class=\"data row11 col0\" >Feedback</td>\n",
       "      <td id=\"T_fad67_row11_col1\" class=\"data row11 col1\" >object</td>\n",
       "      <td id=\"T_fad67_row11_col2\" class=\"data row11 col2\" >Positive, Negative </td>\n",
       "    </tr>\n",
       "  </tbody>\n",
       "</table>\n"
      ],
      "text/plain": [
       "<IPython.core.display.HTML object>"
      ]
     },
     "metadata": {},
     "output_type": "display_data"
    }
   ],
   "source": [
    "def styled_heading(text, background_color='#14adc6', text_color='white'):\n",
    "    return f\"\"\"\n",
    "    <div style=\"\n",
    "        text-align: center;\n",
    "        background: {background_color};\n",
    "        font-family: 'Montserrat', sans-serif;\n",
    "        color: {text_color};\n",
    "        padding: 15px;\n",
    "        font-size: 30px;\n",
    "        font-weight: bold;\n",
    "        line-height: 1;\n",
    "        border-radius: 20px 20px 0 0;\n",
    "        margin-bottom: 20px;\n",
    "        box-shadow: 0px 4px 6px rgba(0, 0, 0, 0.2);\n",
    "        border: 3px dashed {background_color};\n",
    "    \">\n",
    "        {text}\n",
    "    </div>\n",
    "    \"\"\"\n",
    "\n",
    "def style_table(df):\n",
    "    styled_df = df.style.set_table_styles([\n",
    "        {\"selector\": \"th\", \"props\": [(\"color\", \"white\"), (\"background-color\", \"#14adc6\")]}\n",
    "    ]).set_properties(**{\"text-align\": \"center\"}).hide(axis=\"index\")\n",
    "    return styled_df.to_html()\n",
    "\n",
    "def print_dataset_analysis(train_dataset, n_top=5, heading_color='#14adc6', text_color='white'):\n",
    "    train_heading = styled_heading(f\"🔝 Top {n_top} rows of Dataset\", heading_color, text_color)\n",
    "    display(HTML(train_heading))\n",
    "    display(HTML(style_table(train_dataset.head(n_top))))\n",
    "\n",
    "    summary_heading = styled_heading(\"📊 Summary of Dataset\", heading_color, text_color)\n",
    "    display(HTML(summary_heading))\n",
    "    display(HTML(style_table(train_dataset.describe())))\n",
    "\n",
    "    null_heading = styled_heading(\"❌ Null Values in Dataset\", heading_color, text_color)\n",
    "    train_null_count = train_dataset.isnull().sum()\n",
    "    display(HTML(null_heading))\n",
    "    if train_null_count.sum() == 0:\n",
    "        display(HTML(\"<p>No null values in the training dataset.</p>\"))\n",
    "    else:\n",
    "        display(HTML(\"<h3>Training Dataset:</h3>\"))\n",
    "        display(HTML(style_table(train_null_count[train_null_count > 0].to_frame())))\n",
    "        display(HTML(\"<p>These are the null values.</p>\"))\n",
    "\n",
    "    duplicate_heading = styled_heading(\"♻️ Duplicate Values in Dataset\", heading_color, text_color)\n",
    "    train_duplicates = train_dataset.duplicated().sum()\n",
    "    display(HTML(duplicate_heading))\n",
    "    display(HTML(\"<h3>Training Dataset:</h3>\"))\n",
    "    display(HTML(f\"<p>{train_duplicates} duplicate rows found.</p>\"))\n",
    "\n",
    "    shape_heading = styled_heading(\"📏 Number of Rows and Columns\", heading_color, text_color)\n",
    "    display(HTML(shape_heading))\n",
    "    display(HTML(\"<h3>Training Dataset:</h3>\"))\n",
    "    display(HTML(f\"<p>Rows: {train_dataset.shape[0]}, Columns: {train_dataset.shape[1]}</p>\"))\n",
    "\n",
    "def print_unique_values(train_dataset, heading_color='#14adc6', text_color='white'):\n",
    "    unique_values_heading = styled_heading(\"🔢 Unique Values in Dataset\", heading_color, text_color)\n",
    "    display(HTML(unique_values_heading))\n",
    "    unique_values_table = pd.DataFrame({\n",
    "        'Column Name': train_dataset.columns,\n",
    "        'Data Type': [train_dataset[col].dtype for col in train_dataset.columns],\n",
    "        'Unique Values': [', '.join(map(str, train_dataset[col].unique()[:7])) for col in train_dataset.columns]\n",
    "    })\n",
    "    display(HTML(style_table(unique_values_table)))\n",
    "\n",
    "# Example usage with `meta_food`\n",
    "print_dataset_analysis(meta_food, n_top=5, heading_color='#14adc6', text_color='white')\n",
    "print_unique_values(meta_food, heading_color='#14adc6', text_color='white')"
   ]
  },
  {
   "cell_type": "code",
   "execution_count": 49,
   "metadata": {},
   "outputs": [],
   "source": [
    "meta_food['Monthly Income'] = meta_food['Monthly Income'].str.replace('.', '', regex=False)"
   ]
  },
  {
   "cell_type": "code",
   "execution_count": 50,
   "metadata": {},
   "outputs": [],
   "source": [
    "meta_food['Educational Qualifications'] = meta_food['Educational Qualifications'].str.replace('.', '', regex=False)"
   ]
  },
  {
   "cell_type": "code",
   "execution_count": 51,
   "metadata": {},
   "outputs": [],
   "source": [
    "meta_food = meta_food.drop_duplicates()"
   ]
  },
  {
   "cell_type": "code",
   "execution_count": 52,
   "metadata": {},
   "outputs": [
    {
     "data": {
      "text/plain": [
       "(285, 12)"
      ]
     },
     "execution_count": 52,
     "metadata": {},
     "output_type": "execute_result"
    }
   ],
   "source": [
    "meta_food.shape"
   ]
  },
  {
   "cell_type": "code",
   "execution_count": 53,
   "metadata": {},
   "outputs": [
    {
     "data": {
      "image/png": "[encoded data removed]",
      "text/plain": [
       "<Figure size 1000x500 with 1 Axes>"
      ]
     },
     "metadata": {},
     "output_type": "display_data"
    }
   ],
   "source": [
    "background_color = '#5fa1bc'\n",
    "sns.set_theme(style=\"whitegrid\", rc={\"axes.facecolor\": background_color})\n",
    "plt.subplots(figsize=(10, 5))\n",
    "p = sns.countplot(y=\"Marital Status\", data=meta_food, palette='magma', edgecolor='white', linewidth=2, width=0.7)\n",
    "for container in p.containers:\n",
    "    plt.bar_label(container, label_type=\"center\", color=\"black\", fontsize=17, weight='bold', padding=6, position=(0.5, 0.5),\n",
    "                  bbox={\"boxstyle\": \"round\", \"pad\": 0.2, \"facecolor\": \"white\", \"edgecolor\": \"black\", \"linewidth\": 2, \"alpha\": 1})\n",
    "plt.title(\"Marital Status in Dataset\")\n",
    "plt.xlabel(\"Count\")\n",
    "plt.ylabel(\"Marital Status\")\n",
    "plt.show()"
   ]
  },
  {
   "cell_type": "code",
   "execution_count": 54,
   "metadata": {},
   "outputs": [
    {
     "data": {
      "image/png": "[encoded data removed]",
      "text/plain": [
       "<Figure size 1000x500 with 1 Axes>"
      ]
     },
     "metadata": {},
     "output_type": "display_data"
    }
   ],
   "source": [
    "background_color = '#5fa1bc'\n",
    "sns.set_theme(style=\"whitegrid\", rc={\"axes.facecolor\": background_color})\n",
    "plt.subplots(figsize=(10, 5))\n",
    "p = sns.countplot(y=\"Gender\", data=meta_food, palette='magma', edgecolor='white', linewidth=2, width=0.7)\n",
    "for container in p.containers:\n",
    "    plt.bar_label(container, label_type=\"center\", color=\"black\", fontsize=17, weight='bold', padding=6, position=(0.5, 0.5),\n",
    "                  bbox={\"boxstyle\": \"round\", \"pad\": 0.2, \"facecolor\": \"white\", \"edgecolor\": \"black\", \"linewidth\": 2, \"alpha\": 1})\n",
    "plt.title(\"Gender in dataset\")\n",
    "plt.xlabel(\"Count\")\n",
    "plt.ylabel(\"Gender\")\n",
    "plt.show()"
   ]
  },
  {
   "cell_type": "code",
   "execution_count": 55,
   "metadata": {},
   "outputs": [
    {
     "data": {
      "image/png": "[encoded data removed]",
      "text/plain": [
       "<Figure size 1000x500 with 1 Axes>"
      ]
     },
     "metadata": {},
     "output_type": "display_data"
    }
   ],
   "source": [
    "background_color = '#5fa1bc'\n",
    "sns.set_theme(style=\"whitegrid\", rc={\"axes.facecolor\": background_color})\n",
    "plt.subplots(figsize=(10, 5))\n",
    "p = sns.countplot(y=\"Occupation\", data=meta_food, palette='magma', edgecolor='white', linewidth=2, width=0.7)\n",
    "for container in p.containers:\n",
    "    plt.bar_label(container, label_type=\"center\", color=\"black\", fontsize=17, weight='bold', padding=6, position=(0.5, 0.5),\n",
    "                  bbox={\"boxstyle\": \"round\", \"pad\": 0.2, \"facecolor\": \"white\", \"edgecolor\": \"black\", \"linewidth\": 2, \"alpha\": 1})\n",
    "plt.title(\"Occupation in the Dataset\")\n",
    "plt.xlabel(\"Count\")\n",
    "plt.ylabel(\"Occupation\")\n",
    "plt.show()"
   ]
  },
  {
   "cell_type": "code",
   "execution_count": 56,
   "metadata": {},
   "outputs": [
    {
     "data": {
      "image/png": "[encoded data removed]",
      "text/plain": [
       "<Figure size 1000x500 with 1 Axes>"
      ]
     },
     "metadata": {},
     "output_type": "display_data"
    }
   ],
   "source": [
    "background_color = '#5fa1bc'\n",
    "sns.set_theme(style=\"whitegrid\", rc={\"axes.facecolor\": background_color})\n",
    "plt.subplots(figsize=(10, 5))\n",
    "p = sns.countplot(y=\"Monthly Income\", data=meta_food, palette='magma', edgecolor='white', linewidth=2, width=0.7)\n",
    "for container in p.containers:\n",
    "    plt.bar_label(container, label_type=\"center\", color=\"black\", fontsize=17, weight='bold', padding=6, position=(0.5, 0.5),\n",
    "                  bbox={\"boxstyle\": \"round\", \"pad\": 0.2, \"facecolor\": \"white\", \"edgecolor\": \"black\", \"linewidth\": 2, \"alpha\": 1})\n",
    "plt.title(\"Monthly Income in the Dataset\")\n",
    "plt.xlabel(\"Count\")\n",
    "plt.ylabel(\"Monthly Income\")\n",
    "plt.show()"
   ]
  },
  {
   "cell_type": "code",
   "execution_count": 57,
   "metadata": {},
   "outputs": [
    {
     "data": {
      "image/png": "[encoded data removed]",
      "text/plain": [
       "<Figure size 1000x500 with 1 Axes>"
      ]
     },
     "metadata": {},
     "output_type": "display_data"
    }
   ],
   "source": [
    "background_color = '#5fa1bc'\n",
    "sns.set_theme(style=\"whitegrid\", rc={\"axes.facecolor\": background_color})\n",
    "plt.subplots(figsize=(10, 5))\n",
    "p = sns.countplot(y=\"Educational Qualifications\", data=meta_food, palette='magma', edgecolor='white', linewidth=2, width=0.7)\n",
    "for container in p.containers:\n",
    "    plt.bar_label(container, label_type=\"center\", color=\"black\", fontsize=17, weight='bold', padding=6, position=(0.5, 0.5),\n",
    "                  bbox={\"boxstyle\": \"round\", \"pad\": 0.2, \"facecolor\": \"white\", \"edgecolor\": \"black\", \"linewidth\": 2, \"alpha\": 1})\n",
    "plt.title(\"Educational Qualifications in the dataset\")\n",
    "plt.xlabel(\"Count\")\n",
    "plt.ylabel(\"Educational Qualifications\")\n",
    "plt.show()"
   ]
  },
  {
   "cell_type": "code",
   "execution_count": 58,
   "metadata": {},
   "outputs": [
    {
     "data": {
      "image/png": "[encoded data removed]",
      "text/plain": [
       "<Figure size 1000x500 with 1 Axes>"
      ]
     },
     "metadata": {},
     "output_type": "display_data"
    }
   ],
   "source": [
    "background_color = '#5fa1bc'\n",
    "sns.set_theme(style=\"whitegrid\", rc={\"axes.facecolor\": background_color})\n",
    "plt.subplots(figsize=(10, 5))\n",
    "p = sns.countplot(y=\"state_of_order\", data=meta_food, palette='magma', edgecolor='white', linewidth=2, width=0.7)\n",
    "for container in p.containers:\n",
    "    plt.bar_label(container, label_type=\"center\", color=\"black\", fontsize=17, weight='bold', padding=6, position=(0.5, 0.5),\n",
    "                  bbox={\"boxstyle\": \"round\", \"pad\": 0.2, \"facecolor\": \"white\", \"edgecolor\": \"black\", \"linewidth\": 2, \"alpha\": 1})\n",
    "plt.title(\"state_of_order in the dataset\")\n",
    "plt.xlabel(\"Count\")\n",
    "plt.ylabel(\"state_of_order\")\n",
    "plt.show()"
   ]
  },
  {
   "cell_type": "code",
   "execution_count": 59,
   "metadata": {},
   "outputs": [
    {
     "data": {
      "image/png": "[encoded data removed]",
      "text/plain": [
       "<Figure size 1000x500 with 1 Axes>"
      ]
     },
     "metadata": {},
     "output_type": "display_data"
    }
   ],
   "source": [
    "background_color = '#5fa1bc'\n",
    "sns.set_theme(style=\"whitegrid\", rc={\"axes.facecolor\": background_color})\n",
    "plt.subplots(figsize=(10, 5))\n",
    "p = sns.countplot(y=\"Feedback\", data=meta_food, palette='magma', edgecolor='white', linewidth=2, width=0.7)\n",
    "for container in p.containers:\n",
    "    plt.bar_label(container, label_type=\"center\", color=\"black\", fontsize=17, weight='bold', padding=6, position=(0.5, 0.5),\n",
    "                  bbox={\"boxstyle\": \"round\", \"pad\": 0.2, \"facecolor\": \"white\", \"edgecolor\": \"black\", \"linewidth\": 2, \"alpha\": 1})\n",
    "plt.title(\"Feedback in the dataset\")\n",
    "plt.xlabel(\"Count\")\n",
    "plt.ylabel(\"Feedback\")\n",
    "plt.show()"
   ]
  },
  {
   "cell_type": "code",
   "execution_count": 60,
   "metadata": {},
   "outputs": [
    {
     "data": {
      "image/png": "[encoded data removed]",
      "text/plain": [
       "<Figure size 1000x600 with 1 Axes>"
      ]
     },
     "metadata": {},
     "output_type": "display_data"
    }
   ],
   "source": [
    "sns.set_theme(style=\"whitegrid\", rc={\"axes.facecolor\": \"#5fa1bc\"})\n",
    "cmap = sns.color_palette(\"magma\", as_cmap=True)\n",
    "plt.figure(figsize=(10, 6))\n",
    "histplot = sns.histplot(data=meta_food, x=\"Age\", bins=20, palette=cmap, edgecolor='white', kde=True)\n",
    "histplot.get_lines()[0].set_color(\"#4cc9f0\")\n",
    "mean_value = meta_food[\"Age\"].mean()\n",
    "median_value = meta_food[\"Age\"].median()\n",
    "plt.axvline(mean_value, color='red', linestyle='dashed', linewidth=2, label=f'Mean: {mean_value:.2f}')\n",
    "plt.axvline(median_value, color='green', linestyle='dashed', linewidth=2, label=f'Median: {median_value:.2f}')\n",
    "plt.title(\"Distribution of Age in dataset with Mean and Median\")\n",
    "plt.xlabel(\"Age\")\n",
    "plt.ylabel(\"Count\")\n",
    "plt.legend()\n",
    "plt.show()"
   ]
  },
  {
   "cell_type": "code",
   "execution_count": 61,
   "metadata": {},
   "outputs": [
    {
     "data": {
      "image/png": "[encoded data removed]",
      "text/plain": [
       "<Figure size 1000x600 with 1 Axes>"
      ]
     },
     "metadata": {},
     "output_type": "display_data"
    }
   ],
   "source": [
    "sns.set_theme(style=\"whitegrid\", rc={\"axes.facecolor\": \"#5fa1bc\"})\n",
    "cmap = sns.color_palette(\"magma\", as_cmap=True)\n",
    "plt.figure(figsize=(10, 6))\n",
    "histplot = sns.histplot(data=meta_food, x=\"Family size\", bins=20, palette=cmap, edgecolor='white', kde=True)\n",
    "histplot.get_lines()[0].set_color(\"#4cc9f0\")\n",
    "mean_value = meta_food[\"Family size\"].mean()\n",
    "median_value = meta_food[\"Family size\"].median()\n",
    "plt.axvline(mean_value, color='red', linestyle='dashed', linewidth=2, label=f'Mean: {mean_value:.2f}')\n",
    "plt.axvline(median_value, color='green', linestyle='dashed', linewidth=2, label=f'Median: {median_value:.2f}')\n",
    "plt.title(\"Distribution of Family size in dataset with Mean and Median\")\n",
    "plt.xlabel(\"Family Size\")\n",
    "plt.ylabel(\"Count\")\n",
    "plt.legend()\n",
    "plt.show()"
   ]
  },
  {
   "cell_type": "code",
   "execution_count": 62,
   "metadata": {},
   "outputs": [
    {
     "data": {
      "image/png": "[encoded data removed]",
      "text/plain": [
       "<Figure size 1000x600 with 1 Axes>"
      ]
     },
     "metadata": {},
     "output_type": "display_data"
    }
   ],
   "source": [
    "sns.set_theme(style=\"whitegrid\", rc={\"axes.facecolor\": \"#5fa1bc\"})\n",
    "cmap = sns.color_palette(\"magma\", as_cmap=True)\n",
    "plt.figure(figsize=(10, 6))\n",
    "histplot = sns.histplot(data=meta_food, x=\"latitude\", bins=20, palette=cmap, edgecolor='white', kde=True)\n",
    "histplot.get_lines()[0].set_color(\"#4cc9f0\")\n",
    "mean_value = meta_food[\"latitude\"].mean()\n",
    "median_value = meta_food[\"latitude\"].median()\n",
    "plt.axvline(mean_value, color='red', linestyle='dashed', linewidth=2, label=f'Mean: {mean_value:.2f}')\n",
    "plt.axvline(median_value, color='green', linestyle='dashed', linewidth=2, label=f'Median: {median_value:.2f}')\n",
    "plt.title(\"Distribution of latitude in dataset with Mean and Median\")\n",
    "plt.xlabel(\"latitude\")\n",
    "plt.ylabel(\"Count\")\n",
    "plt.legend()\n",
    "plt.show()"
   ]
  },
  {
   "cell_type": "code",
   "execution_count": 63,
   "metadata": {},
   "outputs": [
    {
     "data": {
      "image/png": "[encoded data removed]",
      "text/plain": [
       "<Figure size 1000x600 with 1 Axes>"
      ]
     },
     "metadata": {},
     "output_type": "display_data"
    }
   ],
   "source": [
    "sns.set_theme(style=\"whitegrid\", rc={\"axes.facecolor\": \"#5fa1bc\"})\n",
    "cmap = sns.color_palette(\"magma\", as_cmap=True)\n",
    "plt.figure(figsize=(10, 6))\n",
    "histplot = sns.histplot(data=meta_food, x=\"longitude\", bins=20, palette=cmap, edgecolor='white', kde=True)\n",
    "histplot.get_lines()[0].set_color(\"#4cc9f0\")\n",
    "mean_value = meta_food[\"longitude\"].mean()\n",
    "median_value = meta_food[\"longitude\"].median()\n",
    "plt.axvline(mean_value, color='red', linestyle='dashed', linewidth=2, label=f'Mean: {mean_value:.2f}')\n",
    "plt.axvline(median_value, color='green', linestyle='dashed', linewidth=2, label=f'Median: {median_value:.2f}')\n",
    "plt.title(\"Distribution of longitude in dataset with Mean and Median\")\n",
    "plt.xlabel(\"longitude\")\n",
    "plt.ylabel(\"Count\")\n",
    "plt.legend()\n",
    "plt.show()"
   ]
  },
  {
   "cell_type": "code",
   "execution_count": 64,
   "metadata": {},
   "outputs": [
    {
     "data": {
      "application/vnd.plotly.v1+json": {
       "config": {
        "plotlyServerURL": "https://plot.ly"
       },
       "data": [
        {
         "geo": "geo",
         "hovertemplate": "Pin code=%{text}<br>latitude=%{lat}<br>longitude=%{lon}<extra></extra>",
         "lat": [
          12.9766,
          12.977,
          12.9551,
          12.9473,
          12.985,
          12.9299,
          12.977,
          12.9828,
          12.9766,
          12.9854,
          12.985,
          12.977,
          12.8988,
          12.977,
          12.9438,
          12.8893,
          12.9783,
          12.982,
          12.8988,
          12.9783,
          12.977,
          13.0298,
          12.9983,
          12.9925,
          12.9306,
          12.982,
          12.9353,
          12.9155,
          12.9854,
          13.0019,
          12.9698,
          12.9783,
          12.9261,
          12.985,
          12.9119,
          12.9306,
          12.977,
          12.982,
          12.9438,
          12.8988,
          12.9662,
          12.9565,
          12.9925,
          12.985,
          12.9261,
          12.977,
          12.977,
          13.0206,
          12.977,
          12.9635,
          12.9306,
          13.0067,
          12.8845,
          12.977,
          12.9119,
          13.0067,
          12.8845,
          13.0158,
          12.9343,
          13.0019,
          13.0012,
          12.9442,
          13.0487,
          12.9438,
          12.9889,
          12.9335,
          12.9766,
          12.8845,
          13.0019,
          13.102,
          12.9048,
          12.977,
          12.9337,
          12.9037,
          12.977,
          12.9343,
          12.9438,
          12.977,
          12.9783,
          12.977,
          13.0289,
          13.0289,
          12.9698,
          12.977,
          12.9561,
          12.9579,
          13.014,
          12.9442,
          12.9698,
          12.9438,
          12.9261,
          12.9698,
          12.9698,
          12.9343,
          12.9698,
          12.9635,
          12.977,
          12.9925,
          12.985,
          12.9551,
          13.0289,
          13.0138,
          12.9261,
          12.9766,
          12.9766,
          12.9766,
          12.9635,
          12.9635,
          12.9635,
          12.9635,
          12.977,
          13.0019,
          13.0019,
          13.0019,
          13.0019,
          12.9537,
          12.9698,
          12.998,
          12.998,
          12.998,
          12.9343,
          13.102,
          13.0158,
          12.998,
          12.998,
          13.0138,
          13.0138,
          12.977,
          13.0496,
          12.9783,
          12.9889,
          12.9579,
          12.9579,
          12.9579,
          12.985,
          12.985,
          12.985,
          12.9337,
          12.9337,
          12.9337,
          13.0166,
          13.014,
          13.014,
          13.0503,
          13.0503,
          12.9883,
          13.0626,
          13.0626,
          13.0626,
          13.0166,
          13.0166,
          12.9551,
          12.9551,
          12.9551,
          12.957,
          12.957,
          12.957,
          12.957,
          12.957,
          12.8652,
          12.9698,
          12.9889,
          12.9889,
          12.9925,
          12.9757,
          12.9757,
          13.0487,
          13.0487,
          12.9662,
          12.9662,
          12.9343,
          12.9343,
          12.9343,
          12.9442,
          12.9442,
          12.9442,
          13.0298,
          12.9261,
          12.9621,
          12.8845,
          12.9048,
          12.9048,
          12.9261,
          12.9261,
          12.977,
          12.9783,
          12.9783,
          12.9217,
          13.0206,
          13.0012,
          13.0223,
          12.9337,
          12.982,
          13.0262,
          12.9217,
          13.0078,
          13.0078,
          12.9217,
          12.9105,
          12.9105,
          12.9037,
          12.8834,
          12.9149,
          12.9149,
          12.9706,
          12.9706,
          12.9706,
          12.8845,
          12.9783,
          13.0103,
          13.0103,
          12.9306,
          13.0641,
          13.0158,
          12.9561,
          12.8845,
          12.9369,
          12.9369,
          12.9369,
          12.9369,
          13.0158,
          13.0809,
          13.0641,
          12.9859,
          12.9859,
          12.9866,
          12.9847,
          12.9847,
          12.9847,
          12.9299,
          12.9299,
          12.9828,
          12.989,
          12.977,
          12.9251,
          12.9967,
          12.9967,
          12.9967,
          12.957,
          12.957,
          12.9889,
          13.0206,
          12.8893,
          12.8893,
          12.9967,
          12.9783,
          12.9783,
          12.9925,
          12.9925,
          12.9561,
          12.9561,
          13.0734,
          12.9515,
          12.9515,
          12.9719,
          12.9048,
          12.9048,
          13.0103,
          13.0103,
          12.8893,
          12.9828,
          12.9757,
          12.9757,
          12.9757,
          13.0734,
          13.0734,
          13.0734,
          13.0626,
          13.0626,
          12.977,
          12.998,
          13.0626,
          13.0626,
          13.0138,
          13.0138,
          13.014,
          12.9306,
          12.9217,
          12.982,
          12.9783,
          13.0012,
          12.9306,
          12.9369,
          13.0641,
          12.977
         ],
         "legendgroup": "",
         "lon": [
          77.5993,
          77.5773,
          77.6593,
          77.5616,
          77.5533,
          77.6848,
          77.5773,
          77.6131,
          77.5993,
          77.7081,
          77.5533,
          77.5773,
          77.5764,
          77.5773,
          77.5738,
          77.6399,
          77.6408,
          77.6256,
          77.5764,
          77.6408,
          77.5773,
          77.6047,
          77.6409,
          77.5633,
          77.5434,
          77.6256,
          77.5585,
          77.5135,
          77.7081,
          77.5713,
          77.75,
          77.6408,
          77.6221,
          77.5533,
          77.6446,
          77.5434,
          77.5773,
          77.6256,
          77.5738,
          77.5764,
          77.6068,
          77.5484,
          77.5633,
          77.5533,
          77.6221,
          77.5773,
          77.5773,
          77.6479,
          77.5773,
          77.5821,
          77.5434,
          77.545,
          77.6036,
          77.5773,
          77.6446,
          77.545,
          77.6036,
          77.539,
          77.6044,
          77.5713,
          77.5995,
          77.6076,
          77.5923,
          77.5738,
          77.5741,
          77.5691,
          77.5993,
          77.6036,
          77.5713,
          77.5864,
          77.6821,
          77.5773,
          77.59,
          77.5376,
          77.5773,
          77.6044,
          77.5738,
          77.5773,
          77.6408,
          77.5773,
          77.54,
          77.54,
          77.75,
          77.5773,
          77.5921,
          77.6309,
          77.5658,
          77.6076,
          77.75,
          77.5738,
          77.6221,
          77.75,
          77.75,
          77.6044,
          77.75,
          77.5821,
          77.5773,
          77.5633,
          77.5533,
          77.6593,
          77.54,
          77.5877,
          77.6221,
          77.5993,
          77.5993,
          77.5993,
          77.5821,
          77.5821,
          77.5821,
          77.5821,
          77.5773,
          77.5713,
          77.5713,
          77.5713,
          77.5713,
          77.6176,
          77.75,
          77.6227,
          77.6227,
          77.6227,
          77.6044,
          77.5864,
          77.539,
          77.6227,
          77.6227,
          77.5877,
          77.5877,
          77.5773,
          77.4941,
          77.6408,
          77.5741,
          77.6309,
          77.6309,
          77.6309,
          77.5533,
          77.5533,
          77.5533,
          77.59,
          77.59,
          77.59,
          77.6804,
          77.5658,
          77.5658,
          77.5529,
          77.5529,
          77.5987,
          77.5284,
          77.5284,
          77.5284,
          77.6804,
          77.6804,
          77.6593,
          77.6593,
          77.6593,
          77.5637,
          77.5637,
          77.5637,
          77.5637,
          77.5637,
          77.524,
          77.75,
          77.5741,
          77.5741,
          77.5633,
          77.5586,
          77.5586,
          77.5923,
          77.5923,
          77.6068,
          77.6068,
          77.6044,
          77.6044,
          77.6044,
          77.6076,
          77.6076,
          77.6076,
          77.6047,
          77.6221,
          77.5376,
          77.6036,
          77.6821,
          77.6821,
          77.6221,
          77.6221,
          77.5773,
          77.6408,
          77.6408,
          77.5936,
          77.6479,
          77.5995,
          77.7132,
          77.59,
          77.6256,
          77.62,
          77.5936,
          77.5577,
          77.5577,
          77.5936,
          77.4842,
          77.4842,
          77.5376,
          77.5486,
          77.5635,
          77.5635,
          77.6529,
          77.6529,
          77.6529,
          77.6036,
          77.6408,
          77.5796,
          77.5796,
          77.5434,
          77.5931,
          77.539,
          77.5921,
          77.6036,
          77.6407,
          77.6407,
          77.6407,
          77.6407,
          77.539,
          77.5565,
          77.5931,
          77.6713,
          77.6713,
          77.4904,
          77.5491,
          77.5491,
          77.5491,
          77.6848,
          77.6848,
          77.6131,
          77.5332,
          77.5773,
          77.4992,
          77.7582,
          77.7582,
          77.7582,
          77.5637,
          77.5637,
          77.5741,
          77.6479,
          77.6399,
          77.6399,
          77.7582,
          77.6408,
          77.6408,
          77.5633,
          77.5633,
          77.5921,
          77.5921,
          77.5464,
          77.4921,
          77.4921,
          77.5128,
          77.6821,
          77.6821,
          77.5796,
          77.5796,
          77.6399,
          77.6131,
          77.5586,
          77.5586,
          77.5586,
          77.5464,
          77.5464,
          77.5464,
          77.5284,
          77.5284,
          77.5773,
          77.6227,
          77.5284,
          77.5284,
          77.5877,
          77.5877,
          77.5658,
          77.5434,
          77.5936,
          77.6256,
          77.6408,
          77.5995,
          77.5434,
          77.6407,
          77.5931,
          77.5773
         ],
         "marker": {
          "color": "#636efa",
          "symbol": "circle"
         },
         "mode": "markers+text",
         "name": "",
         "showlegend": false,
         "text": [
          560001,
          560009,
          560017,
          560019,
          560010,
          560103,
          560009,
          560042,
          560001,
          560048,
          560010,
          560009,
          560078,
          560009,
          560004,
          560068,
          560038,
          560008,
          560078,
          560038,
          560009,
          560032,
          560033,
          560021,
          560085,
          560008,
          560050,
          560098,
          560048,
          560003,
          560066,
          560038,
          560034,
          560010,
          560102,
          560085,
          560009,
          560008,
          560004,
          560078,
          560025,
          560026,
          560021,
          560010,
          560034,
          560009,
          560009,
          560043,
          560009,
          560002,
          560085,
          560086,
          560076,
          560009,
          560102,
          560086,
          560076,
          560096,
          560029,
          560003,
          560046,
          560030,
          560024,
          560004,
          560020,
          560028,
          560001,
          560076,
          560003,
          560064,
          560036,
          560009,
          560011,
          560061,
          560009,
          560029,
          560004,
          560009,
          560038,
          560009,
          560022,
          560022,
          560066,
          560009,
          560027,
          560007,
          560012,
          560030,
          560066,
          560004,
          560034,
          560066,
          560066,
          560029,
          560066,
          560002,
          560009,
          560021,
          560010,
          560017,
          560022,
          560006,
          560034,
          560001,
          560001,
          560001,
          560002,
          560002,
          560002,
          560002,
          560009,
          560003,
          560003,
          560003,
          560003,
          560047,
          560066,
          560005,
          560005,
          560005,
          560029,
          560064,
          560096,
          560005,
          560005,
          560006,
          560006,
          560009,
          560073,
          560038,
          560020,
          560007,
          560007,
          560007,
          560010,
          560010,
          560010,
          560011,
          560011,
          560011,
          560016,
          560012,
          560012,
          560013,
          560013,
          560051,
          560015,
          560015,
          560015,
          560016,
          560016,
          560017,
          560017,
          560017,
          560018,
          560018,
          560018,
          560018,
          560018,
          560109,
          560066,
          560020,
          560020,
          560021,
          560023,
          560023,
          560024,
          560024,
          560025,
          560025,
          560029,
          560029,
          560029,
          560030,
          560030,
          560030,
          560032,
          560034,
          560104,
          560076,
          560036,
          560036,
          560034,
          560034,
          560009,
          560038,
          560038,
          560041,
          560043,
          560046,
          560049,
          560011,
          560008,
          560045,
          560041,
          560055,
          560055,
          560041,
          560060,
          560060,
          560061,
          560062,
          560070,
          560070,
          560075,
          560075,
          560075,
          560076,
          560038,
          560080,
          560080,
          560085,
          560092,
          560096,
          560027,
          560076,
          560095,
          560095,
          560095,
          560095,
          560096,
          560097,
          560092,
          560093,
          560093,
          560091,
          560100,
          560100,
          560100,
          560103,
          560103,
          560042,
          560079,
          560009,
          560059,
          560067,
          560067,
          560067,
          560018,
          560018,
          560020,
          560043,
          560068,
          560068,
          560067,
          560038,
          560038,
          560021,
          560021,
          560027,
          560027,
          560014,
          560056,
          560056,
          560072,
          560036,
          560036,
          560080,
          560080,
          560068,
          560042,
          560023,
          560023,
          560023,
          560014,
          560014,
          560014,
          560015,
          560015,
          560009,
          560005,
          560015,
          560015,
          560006,
          560006,
          560012,
          560085,
          560041,
          560008,
          560038,
          560046,
          560085,
          560095,
          560092,
          560009
         ],
         "type": "scattergeo"
        }
       ],
       "layout": {
        "geo": {
         "center": {},
         "domain": {
          "x": [
           0,
           1
          ],
          "y": [
           0,
           1
          ]
         }
        },
        "legend": {
         "tracegroupgap": 0
        },
        "template": {
         "data": {
          "bar": [
           {
            "error_x": {
             "color": "#2a3f5f"
            },
            "error_y": {
             "color": "#2a3f5f"
            },
            "marker": {
             "line": {
              "color": "#E5ECF6",
              "width": 0.5
             },
             "pattern": {
              "fillmode": "overlay",
              "size": 10,
              "solidity": 0.2
             }
            },
            "type": "bar"
           }
          ],
          "barpolar": [
           {
            "marker": {
             "line": {
              "color": "#E5ECF6",
              "width": 0.5
             },
             "pattern": {
              "fillmode": "overlay",
              "size": 10,
              "solidity": 0.2
             }
            },
            "type": "barpolar"
           }
          ],
          "carpet": [
           {
            "aaxis": {
             "endlinecolor": "#2a3f5f",
             "gridcolor": "white",
             "linecolor": "white",
             "minorgridcolor": "white",
             "startlinecolor": "#2a3f5f"
            },
            "baxis": {
             "endlinecolor": "#2a3f5f",
             "gridcolor": "white",
             "linecolor": "white",
             "minorgridcolor": "white",
             "startlinecolor": "#2a3f5f"
            },
            "type": "carpet"
           }
          ],
          "choropleth": [
           {
            "colorbar": {
             "outlinewidth": 0,
             "ticks": ""
            },
            "type": "choropleth"
           }
          ],
          "contour": [
           {
            "colorbar": {
             "outlinewidth": 0,
             "ticks": ""
            },
            "colorscale": [
             [
              0,
              "#0d0887"
             ],
             [
              0.1111111111111111,
              "#46039f"
             ],
             [
              0.2222222222222222,
              "#7201a8"
             ],
             [
              0.3333333333333333,
              "#9c179e"
             ],
             [
              0.4444444444444444,
              "#bd3786"
             ],
             [
              0.5555555555555556,
              "#d8576b"
             ],
             [
              0.6666666666666666,
              "#ed7953"
             ],
             [
              0.7777777777777778,
              "#fb9f3a"
             ],
             [
              0.8888888888888888,
              "#fdca26"
             ],
             [
              1,
              "#f0f921"
             ]
            ],
            "type": "contour"
           }
          ],
          "contourcarpet": [
           {
            "colorbar": {
             "outlinewidth": 0,
             "ticks": ""
            },
            "type": "contourcarpet"
           }
          ],
          "heatmap": [
           {
            "colorbar": {
             "outlinewidth": 0,
             "ticks": ""
            },
            "colorscale": [
             [
              0,
              "#0d0887"
             ],
             [
              0.1111111111111111,
              "#46039f"
             ],
             [
              0.2222222222222222,
              "#7201a8"
             ],
             [
              0.3333333333333333,
              "#9c179e"
             ],
             [
              0.4444444444444444,
              "#bd3786"
             ],
             [
              0.5555555555555556,
              "#d8576b"
             ],
             [
              0.6666666666666666,
              "#ed7953"
             ],
             [
              0.7777777777777778,
              "#fb9f3a"
             ],
             [
              0.8888888888888888,
              "#fdca26"
             ],
             [
              1,
              "#f0f921"
             ]
            ],
            "type": "heatmap"
           }
          ],
          "heatmapgl": [
           {
            "colorbar": {
             "outlinewidth": 0,
             "ticks": ""
            },
            "colorscale": [
             [
              0,
              "#0d0887"
             ],
             [
              0.1111111111111111,
              "#46039f"
             ],
             [
              0.2222222222222222,
              "#7201a8"
             ],
             [
              0.3333333333333333,
              "#9c179e"
             ],
             [
              0.4444444444444444,
              "#bd3786"
             ],
             [
              0.5555555555555556,
              "#d8576b"
             ],
             [
              0.6666666666666666,
              "#ed7953"
             ],
             [
              0.7777777777777778,
              "#fb9f3a"
             ],
             [
              0.8888888888888888,
              "#fdca26"
             ],
             [
              1,
              "#f0f921"
             ]
            ],
            "type": "heatmapgl"
           }
          ],
          "histogram": [
           {
            "marker": {
             "pattern": {
              "fillmode": "overlay",
              "size": 10,
              "solidity": 0.2
             }
            },
            "type": "histogram"
           }
          ],
          "histogram2d": [
           {
            "colorbar": {
             "outlinewidth": 0,
             "ticks": ""
            },
            "colorscale": [
             [
              0,
              "#0d0887"
             ],
             [
              0.1111111111111111,
              "#46039f"
             ],
             [
              0.2222222222222222,
              "#7201a8"
             ],
             [
              0.3333333333333333,
              "#9c179e"
             ],
             [
              0.4444444444444444,
              "#bd3786"
             ],
             [
              0.5555555555555556,
              "#d8576b"
             ],
             [
              0.6666666666666666,
              "#ed7953"
             ],
             [
              0.7777777777777778,
              "#fb9f3a"
             ],
             [
              0.8888888888888888,
              "#fdca26"
             ],
             [
              1,
              "#f0f921"
             ]
            ],
            "type": "histogram2d"
           }
          ],
          "histogram2dcontour": [
           {
            "colorbar": {
             "outlinewidth": 0,
             "ticks": ""
            },
            "colorscale": [
             [
              0,
              "#0d0887"
             ],
             [
              0.1111111111111111,
              "#46039f"
             ],
             [
              0.2222222222222222,
              "#7201a8"
             ],
             [
              0.3333333333333333,
              "#9c179e"
             ],
             [
              0.4444444444444444,
              "#bd3786"
             ],
             [
              0.5555555555555556,
              "#d8576b"
             ],
             [
              0.6666666666666666,
              "#ed7953"
             ],
             [
              0.7777777777777778,
              "#fb9f3a"
             ],
             [
              0.8888888888888888,
              "#fdca26"
             ],
             [
              1,
              "#f0f921"
             ]
            ],
            "type": "histogram2dcontour"
           }
          ],
          "mesh3d": [
           {
            "colorbar": {
             "outlinewidth": 0,
             "ticks": ""
            },
            "type": "mesh3d"
           }
          ],
          "parcoords": [
           {
            "line": {
             "colorbar": {
              "outlinewidth": 0,
              "ticks": ""
             }
            },
            "type": "parcoords"
           }
          ],
          "pie": [
           {
            "automargin": true,
            "type": "pie"
           }
          ],
          "scatter": [
           {
            "fillpattern": {
             "fillmode": "overlay",
             "size": 10,
             "solidity": 0.2
            },
            "type": "scatter"
           }
          ],
          "scatter3d": [
           {
            "line": {
             "colorbar": {
              "outlinewidth": 0,
              "ticks": ""
             }
            },
            "marker": {
             "colorbar": {
              "outlinewidth": 0,
              "ticks": ""
             }
            },
            "type": "scatter3d"
           }
          ],
          "scattercarpet": [
           {
            "marker": {
             "colorbar": {
              "outlinewidth": 0,
              "ticks": ""
             }
            },
            "type": "scattercarpet"
           }
          ],
          "scattergeo": [
           {
            "marker": {
             "colorbar": {
              "outlinewidth": 0,
              "ticks": ""
             }
            },
            "type": "scattergeo"
           }
          ],
          "scattergl": [
           {
            "marker": {
             "colorbar": {
              "outlinewidth": 0,
              "ticks": ""
             }
            },
            "type": "scattergl"
           }
          ],
          "scattermapbox": [
           {
            "marker": {
             "colorbar": {
              "outlinewidth": 0,
              "ticks": ""
             }
            },
            "type": "scattermapbox"
           }
          ],
          "scatterpolar": [
           {
            "marker": {
             "colorbar": {
              "outlinewidth": 0,
              "ticks": ""
             }
            },
            "type": "scatterpolar"
           }
          ],
          "scatterpolargl": [
           {
            "marker": {
             "colorbar": {
              "outlinewidth": 0,
              "ticks": ""
             }
            },
            "type": "scatterpolargl"
           }
          ],
          "scatterternary": [
           {
            "marker": {
             "colorbar": {
              "outlinewidth": 0,
              "ticks": ""
             }
            },
            "type": "scatterternary"
           }
          ],
          "surface": [
           {
            "colorbar": {
             "outlinewidth": 0,
             "ticks": ""
            },
            "colorscale": [
             [
              0,
              "#0d0887"
             ],
             [
              0.1111111111111111,
              "#46039f"
             ],
             [
              0.2222222222222222,
              "#7201a8"
             ],
             [
              0.3333333333333333,
              "#9c179e"
             ],
             [
              0.4444444444444444,
              "#bd3786"
             ],
             [
              0.5555555555555556,
              "#d8576b"
             ],
             [
              0.6666666666666666,
              "#ed7953"
             ],
             [
              0.7777777777777778,
              "#fb9f3a"
             ],
             [
              0.8888888888888888,
              "#fdca26"
             ],
             [
              1,
              "#f0f921"
             ]
            ],
            "type": "surface"
           }
          ],
          "table": [
           {
            "cells": {
             "fill": {
              "color": "#EBF0F8"
             },
             "line": {
              "color": "white"
             }
            },
            "header": {
             "fill": {
              "color": "#C8D4E3"
             },
             "line": {
              "color": "white"
             }
            },
            "type": "table"
           }
          ]
         },
         "layout": {
          "annotationdefaults": {
           "arrowcolor": "#2a3f5f",
           "arrowhead": 0,
           "arrowwidth": 1
          },
          "autotypenumbers": "strict",
          "coloraxis": {
           "colorbar": {
            "outlinewidth": 0,
            "ticks": ""
           }
          },
          "colorscale": {
           "diverging": [
            [
             0,
             "#8e0152"
            ],
            [
             0.1,
             "#c51b7d"
            ],
            [
             0.2,
             "#de77ae"
            ],
            [
             0.3,
             "#f1b6da"
            ],
            [
             0.4,
             "#fde0ef"
            ],
            [
             0.5,
             "#f7f7f7"
            ],
            [
             0.6,
             "#e6f5d0"
            ],
            [
             0.7,
             "#b8e186"
            ],
            [
             0.8,
             "#7fbc41"
            ],
            [
             0.9,
             "#4d9221"
            ],
            [
             1,
             "#276419"
            ]
           ],
           "sequential": [
            [
             0,
             "#0d0887"
            ],
            [
             0.1111111111111111,
             "#46039f"
            ],
            [
             0.2222222222222222,
             "#7201a8"
            ],
            [
             0.3333333333333333,
             "#9c179e"
            ],
            [
             0.4444444444444444,
             "#bd3786"
            ],
            [
             0.5555555555555556,
             "#d8576b"
            ],
            [
             0.6666666666666666,
             "#ed7953"
            ],
            [
             0.7777777777777778,
             "#fb9f3a"
            ],
            [
             0.8888888888888888,
             "#fdca26"
            ],
            [
             1,
             "#f0f921"
            ]
           ],
           "sequentialminus": [
            [
             0,
             "#0d0887"
            ],
            [
             0.1111111111111111,
             "#46039f"
            ],
            [
             0.2222222222222222,
             "#7201a8"
            ],
            [
             0.3333333333333333,
             "#9c179e"
            ],
            [
             0.4444444444444444,
             "#bd3786"
            ],
            [
             0.5555555555555556,
             "#d8576b"
            ],
            [
             0.6666666666666666,
             "#ed7953"
            ],
            [
             0.7777777777777778,
             "#fb9f3a"
            ],
            [
             0.8888888888888888,
             "#fdca26"
            ],
            [
             1,
             "#f0f921"
            ]
           ]
          },
          "colorway": [
           "#636efa",
           "#EF553B",
           "#00cc96",
           "#ab63fa",
           "#FFA15A",
           "#19d3f3",
           "#FF6692",
           "#B6E880",
           "#FF97FF",
           "#FECB52"
          ],
          "font": {
           "color": "#2a3f5f"
          },
          "geo": {
           "bgcolor": "white",
           "lakecolor": "white",
           "landcolor": "#E5ECF6",
           "showlakes": true,
           "showland": true,
           "subunitcolor": "white"
          },
          "hoverlabel": {
           "align": "left"
          },
          "hovermode": "closest",
          "mapbox": {
           "style": "light"
          },
          "paper_bgcolor": "white",
          "plot_bgcolor": "#E5ECF6",
          "polar": {
           "angularaxis": {
            "gridcolor": "white",
            "linecolor": "white",
            "ticks": ""
           },
           "bgcolor": "#E5ECF6",
           "radialaxis": {
            "gridcolor": "white",
            "linecolor": "white",
            "ticks": ""
           }
          },
          "scene": {
           "xaxis": {
            "backgroundcolor": "#E5ECF6",
            "gridcolor": "white",
            "gridwidth": 2,
            "linecolor": "white",
            "showbackground": true,
            "ticks": "",
            "zerolinecolor": "white"
           },
           "yaxis": {
            "backgroundcolor": "#E5ECF6",
            "gridcolor": "white",
            "gridwidth": 2,
            "linecolor": "white",
            "showbackground": true,
            "ticks": "",
            "zerolinecolor": "white"
           },
           "zaxis": {
            "backgroundcolor": "#E5ECF6",
            "gridcolor": "white",
            "gridwidth": 2,
            "linecolor": "white",
            "showbackground": true,
            "ticks": "",
            "zerolinecolor": "white"
           }
          },
          "shapedefaults": {
           "line": {
            "color": "#2a3f5f"
           }
          },
          "ternary": {
           "aaxis": {
            "gridcolor": "white",
            "linecolor": "white",
            "ticks": ""
           },
           "baxis": {
            "gridcolor": "white",
            "linecolor": "white",
            "ticks": ""
           },
           "bgcolor": "#E5ECF6",
           "caxis": {
            "gridcolor": "white",
            "linecolor": "white",
            "ticks": ""
           }
          },
          "title": {
           "x": 0.05
          },
          "xaxis": {
           "automargin": true,
           "gridcolor": "white",
           "linecolor": "white",
           "ticks": "",
           "title": {
            "standoff": 15
           },
           "zerolinecolor": "white",
           "zerolinewidth": 2
          },
          "yaxis": {
           "automargin": true,
           "gridcolor": "white",
           "linecolor": "white",
           "ticks": "",
           "title": {
            "standoff": 15
           },
           "zerolinecolor": "white",
           "zerolinewidth": 2
          }
         }
        },
        "title": {
         "text": "Geographical Chart with Pincodes"
        }
       }
      }
     },
     "metadata": {},
     "output_type": "display_data"
    }
   ],
   "source": [
    "fig = px.scatter_geo(\n",
    "    meta_food, \n",
    "    lat='latitude', \n",
    "    lon='longitude', \n",
    "    text='Pin code', \n",
    "    title='Geographical Chart with Pincodes'\n",
    ")\n",
    "\n",
    "# Show the plot\n",
    "fig.show()"
   ]
  }
 ],
 "metadata": {
  "kernelspec": {
   "display_name": "Python 3",
   "language": "python",
   "name": "python3"
  },
  "language_info": {
   "codemirror_mode": {
    "name": "ipython",
    "version": 3
   },
   "file_extension": ".py",
   "mimetype": "text/x-python",
   "name": "python",
   "nbconvert_exporter": "python",
   "pygments_lexer": "ipython3",
   "version": "3.11.3"
  }
 },
 "nbformat": 4,
 "nbformat_minor": 2
}
